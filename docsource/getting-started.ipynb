{
 "cells": [
  {
   "cell_type": "markdown",
   "metadata": {},
   "source": [
    "# Getting started"
   ]
  },
  {
   "cell_type": "raw",
   "metadata": {
    "raw_mimetype": "text/restructuredtext"
   },
   "source": [
    "The example below shows the basic usage of TSFuse."
   ]
  },
  {
   "cell_type": "markdown",
   "metadata": {},
   "source": [
    "## Data representation"
   ]
  },
  {
   "cell_type": "raw",
   "metadata": {
    "raw_mimetype": "text/restructuredtext"
   },
   "source": [
    "TSFuse represents time series data as a dictionary of :class:`~tsfuse.data.Collection` objects. In this dictionary, each item ``name : Collection(...)`` is a `view` which corresponds to a specific sensor (or another type of source) which generates time series data. The data of a view is stored as a three-dimensional array of shape ``(N, t, d)`` where `N` is the number of windows, `t` is the number of time stamps in each window, and `d` is the number of dimensions. Using multiple dimensions is useful for sensors that collected multiple time series, e.g., a tri-axial accelerometer which simultaneously measures the `x`, `y`, `z` acceleration."
   ]
  },
  {
   "cell_type": "raw",
   "metadata": {
    "raw_mimetype": "text/restructuredtext"
   },
   "source": [
    "As an example, let's create a dictionary with two views `x1` and `x2`. Each view consists of `N = 6` windows, `t = 3` time stamps in each window, and `d = 1` dimension."
   ]
  },
  {
   "cell_type": "code",
   "execution_count": 1,
   "metadata": {
    "ExecuteTime": {
     "end_time": "2019-12-09T11:55:30.629106Z",
     "start_time": "2019-12-09T11:55:29.365104Z"
    }
   },
   "outputs": [],
   "source": [
    "from tsfuse.data import Collection\n",
    "\n",
    "X = {\n",
    "    'x1': Collection([\n",
    "        [[1], [2], [3]],\n",
    "        [[1], [2], [3]],\n",
    "        [[1], [2], [3]],\n",
    "        [[3], [2], [1]],\n",
    "        [[3], [2], [1]],\n",
    "        [[3], [2], [1]],\n",
    "    ]),\n",
    "    'x2': Collection([\n",
    "        [[1], [2], [3]],\n",
    "        [[1], [2], [3]],\n",
    "        [[1], [2], [3]],\n",
    "        [[1], [2], [3]],\n",
    "        [[1], [2], [3]],\n",
    "        [[1], [2], [3]],\n",
    "    ]),\n",
    "}"
   ]
  },
  {
   "cell_type": "raw",
   "metadata": {
    "raw_mimetype": "text/restructuredtext"
   },
   "source": [
    "Since the goal of TSFuse is to construct features that are relevant for a classification or regression task, let's also define a target variable. There should be one target value for each window, so we create a list of length `N`:"
   ]
  },
  {
   "cell_type": "code",
   "execution_count": 2,
   "metadata": {
    "ExecuteTime": {
     "end_time": "2019-12-09T11:55:30.634146Z",
     "start_time": "2019-12-09T11:55:30.631109Z"
    }
   },
   "outputs": [],
   "source": [
    "y = [0, 0, 0, 1, 1, 1]"
   ]
  },
  {
   "cell_type": "markdown",
   "metadata": {},
   "source": [
    "## Feature construction"
   ]
  },
  {
   "cell_type": "raw",
   "metadata": {
    "raw_mimetype": "text/restructuredtext"
   },
   "source": [
    "To construct features, TSFuse provides a :meth:`~tsfuse.construct` function which requires time series data `X` and target data `y`, and returns a DataFrame where each column corresponds to a feature. In addition, this function can return a computation graph which contains all transformation steps required to compute the features for new data."
   ]
  },
  {
   "cell_type": "code",
   "execution_count": 3,
   "metadata": {
    "ExecuteTime": {
     "end_time": "2019-12-09T11:55:30.726204Z",
     "start_time": "2019-12-09T11:55:30.636771Z"
    }
   },
   "outputs": [],
   "source": [
    "from tsfuse import construct\n",
    "features, graph = construct(X, y, transformers='minimal', return_graph=True)"
   ]
  },
  {
   "cell_type": "raw",
   "metadata": {
    "raw_mimetype": "text/restructuredtext"
   },
   "source": [
    "The DataFrame with the constructed features looks like this:"
   ]
  },
  {
   "cell_type": "code",
   "execution_count": 4,
   "metadata": {
    "ExecuteTime": {
     "end_time": "2019-12-09T11:55:30.749748Z",
     "start_time": "2019-12-09T11:55:30.728227Z"
    }
   },
   "outputs": [
    {
     "data": {
      "text/html": [
       "<div>\n",
       "<style scoped>\n",
       "    .dataframe tbody tr th:only-of-type {\n",
       "        vertical-align: middle;\n",
       "    }\n",
       "\n",
       "    .dataframe tbody tr th {\n",
       "        vertical-align: top;\n",
       "    }\n",
       "\n",
       "    .dataframe thead th {\n",
       "        text-align: right;\n",
       "    }\n",
       "</style>\n",
       "<table border=\"1\" class=\"dataframe\">\n",
       "  <thead>\n",
       "    <tr style=\"text-align: right;\">\n",
       "      <th></th>\n",
       "      <th>Slice(SinglePassStatistics(Ratio(Input(x1), Input(x2))), i=2)</th>\n",
       "      <th>Slice(SinglePassStatistics(Ratio(Input(x1), Input(x2))), i=3)</th>\n",
       "      <th>Slice(SinglePassStatistics(Ratio(Input(x1), Input(x2))), i=4)</th>\n",
       "      <th>Slice(SinglePassStatistics(Ratio(Input(x1), Input(x2))), i=5)</th>\n",
       "      <th>Slice(SinglePassStatistics(Ratio(Input(x1), Input(x2))), i=6)</th>\n",
       "      <th>Slice(SinglePassStatistics(Ratio(Input(x1), Input(x2))), i=7)</th>\n",
       "      <th>Sqrt(Variance(Ratio(Input(x1), Input(x2))))</th>\n",
       "    </tr>\n",
       "  </thead>\n",
       "  <tbody>\n",
       "    <tr>\n",
       "      <td>0</td>\n",
       "      <td>1.000000</td>\n",
       "      <td>1.0</td>\n",
       "      <td>1.000000</td>\n",
       "      <td>0.000000</td>\n",
       "      <td>NaN</td>\n",
       "      <td>NaN</td>\n",
       "      <td>0.000000</td>\n",
       "    </tr>\n",
       "    <tr>\n",
       "      <td>1</td>\n",
       "      <td>1.000000</td>\n",
       "      <td>1.0</td>\n",
       "      <td>1.000000</td>\n",
       "      <td>0.000000</td>\n",
       "      <td>NaN</td>\n",
       "      <td>NaN</td>\n",
       "      <td>0.000000</td>\n",
       "    </tr>\n",
       "    <tr>\n",
       "      <td>2</td>\n",
       "      <td>1.000000</td>\n",
       "      <td>1.0</td>\n",
       "      <td>1.000000</td>\n",
       "      <td>0.000000</td>\n",
       "      <td>NaN</td>\n",
       "      <td>NaN</td>\n",
       "      <td>0.000000</td>\n",
       "    </tr>\n",
       "    <tr>\n",
       "      <td>3</td>\n",
       "      <td>0.333333</td>\n",
       "      <td>3.0</td>\n",
       "      <td>1.444444</td>\n",
       "      <td>1.283951</td>\n",
       "      <td>0.528005</td>\n",
       "      <td>-1.5</td>\n",
       "      <td>1.133115</td>\n",
       "    </tr>\n",
       "    <tr>\n",
       "      <td>4</td>\n",
       "      <td>0.333333</td>\n",
       "      <td>3.0</td>\n",
       "      <td>1.444444</td>\n",
       "      <td>1.283951</td>\n",
       "      <td>0.528005</td>\n",
       "      <td>-1.5</td>\n",
       "      <td>1.133115</td>\n",
       "    </tr>\n",
       "    <tr>\n",
       "      <td>5</td>\n",
       "      <td>0.333333</td>\n",
       "      <td>3.0</td>\n",
       "      <td>1.444444</td>\n",
       "      <td>1.283951</td>\n",
       "      <td>0.528005</td>\n",
       "      <td>-1.5</td>\n",
       "      <td>1.133115</td>\n",
       "    </tr>\n",
       "  </tbody>\n",
       "</table>\n",
       "</div>"
      ],
      "text/plain": [
       "   Slice(SinglePassStatistics(Ratio(Input(x1), Input(x2))), i=2)  \\\n",
       "0                                           1.000000               \n",
       "1                                           1.000000               \n",
       "2                                           1.000000               \n",
       "3                                           0.333333               \n",
       "4                                           0.333333               \n",
       "5                                           0.333333               \n",
       "\n",
       "   Slice(SinglePassStatistics(Ratio(Input(x1), Input(x2))), i=3)  \\\n",
       "0                                                1.0               \n",
       "1                                                1.0               \n",
       "2                                                1.0               \n",
       "3                                                3.0               \n",
       "4                                                3.0               \n",
       "5                                                3.0               \n",
       "\n",
       "   Slice(SinglePassStatistics(Ratio(Input(x1), Input(x2))), i=4)  \\\n",
       "0                                           1.000000               \n",
       "1                                           1.000000               \n",
       "2                                           1.000000               \n",
       "3                                           1.444444               \n",
       "4                                           1.444444               \n",
       "5                                           1.444444               \n",
       "\n",
       "   Slice(SinglePassStatistics(Ratio(Input(x1), Input(x2))), i=5)  \\\n",
       "0                                           0.000000               \n",
       "1                                           0.000000               \n",
       "2                                           0.000000               \n",
       "3                                           1.283951               \n",
       "4                                           1.283951               \n",
       "5                                           1.283951               \n",
       "\n",
       "   Slice(SinglePassStatistics(Ratio(Input(x1), Input(x2))), i=6)  \\\n",
       "0                                                NaN               \n",
       "1                                                NaN               \n",
       "2                                                NaN               \n",
       "3                                           0.528005               \n",
       "4                                           0.528005               \n",
       "5                                           0.528005               \n",
       "\n",
       "   Slice(SinglePassStatistics(Ratio(Input(x1), Input(x2))), i=7)  \\\n",
       "0                                                NaN               \n",
       "1                                                NaN               \n",
       "2                                                NaN               \n",
       "3                                               -1.5               \n",
       "4                                               -1.5               \n",
       "5                                               -1.5               \n",
       "\n",
       "   Sqrt(Variance(Ratio(Input(x1), Input(x2))))  \n",
       "0                                     0.000000  \n",
       "1                                     0.000000  \n",
       "2                                     0.000000  \n",
       "3                                     1.133115  \n",
       "4                                     1.133115  \n",
       "5                                     1.133115  "
      ]
     },
     "execution_count": 4,
     "metadata": {},
     "output_type": "execute_result"
    }
   ],
   "source": [
    "features"
   ]
  },
  {
   "cell_type": "raw",
   "metadata": {
    "raw_mimetype": "text/restructuredtext"
   },
   "source": [
    "And this is the corresponding computation graph:"
   ]
  },
  {
   "cell_type": "code",
   "execution_count": 5,
   "metadata": {
    "ExecuteTime": {
     "end_time": "2019-12-09T11:55:30.797028Z",
     "start_time": "2019-12-09T11:55:30.751377Z"
    }
   },
   "outputs": [
    {
     "data": {
      "image/svg+xml": [
       "<?xml version=\"1.0\" encoding=\"UTF-8\" standalone=\"no\"?>\n",
       "<!DOCTYPE svg PUBLIC \"-//W3C//DTD SVG 1.1//EN\"\n",
       " \"http://www.w3.org/Graphics/SVG/1.1/DTD/svg11.dtd\">\n",
       "<!-- Generated by graphviz version 2.40.1 (20161225.0304)\n",
       " -->\n",
       "<!-- Title: %3 Pages: 1 -->\n",
       "<svg width=\"644pt\" height=\"332pt\"\n",
       " viewBox=\"0.00 0.00 644.09 332.00\" xmlns=\"http://www.w3.org/2000/svg\" xmlns:xlink=\"http://www.w3.org/1999/xlink\">\n",
       "<g id=\"graph0\" class=\"graph\" transform=\"scale(1 1) rotate(0) translate(4 328)\">\n",
       "<title>%3</title>\n",
       "<polygon fill=\"#ffffff\" stroke=\"transparent\" points=\"-4,4 -4,-328 640.0909,-328 640.0909,4 -4,4\"/>\n",
       "<!-- (&#39;Input&#39;, &#39;x1&#39;) -->\n",
       "<g id=\"node1\" class=\"node\">\n",
       "<title>(&#39;Input&#39;, &#39;x1&#39;)</title>\n",
       "<ellipse fill=\"none\" stroke=\"#000000\" cx=\"281.5455\" cy=\"-306\" rx=\"27\" ry=\"18\"/>\n",
       "<text text-anchor=\"middle\" x=\"281.5455\" y=\"-301.8\" font-family=\"Times,serif\" font-size=\"14.00\" fill=\"#000000\">x1</text>\n",
       "</g>\n",
       "<!-- (&#39;Divide&#39;, (), ((&#39;Input&#39;, &#39;x1&#39;), (&#39;Input&#39;, &#39;x2&#39;))) -->\n",
       "<g id=\"node3\" class=\"node\">\n",
       "<title>(&#39;Divide&#39;, (), ((&#39;Input&#39;, &#39;x1&#39;), (&#39;Input&#39;, &#39;x2&#39;)))</title>\n",
       "<ellipse fill=\"none\" stroke=\"#000000\" cx=\"317.5455\" cy=\"-234\" rx=\"34.3527\" ry=\"18\"/>\n",
       "<text text-anchor=\"middle\" x=\"317.5455\" y=\"-229.8\" font-family=\"Times,serif\" font-size=\"14.00\" fill=\"#000000\">Divide</text>\n",
       "</g>\n",
       "<!-- (&#39;Input&#39;, &#39;x1&#39;)&#45;&gt;(&#39;Divide&#39;, (), ((&#39;Input&#39;, &#39;x1&#39;), (&#39;Input&#39;, &#39;x2&#39;))) -->\n",
       "<g id=\"edge1\" class=\"edge\">\n",
       "<title>(&#39;Input&#39;, &#39;x1&#39;)&#45;&gt;(&#39;Divide&#39;, (), ((&#39;Input&#39;, &#39;x1&#39;), (&#39;Input&#39;, &#39;x2&#39;)))</title>\n",
       "<path fill=\"none\" stroke=\"#000000\" d=\"M290.2601,-288.5708C294.4739,-280.1431 299.6227,-269.8455 304.3077,-260.4755\"/>\n",
       "<polygon fill=\"#000000\" stroke=\"#000000\" points=\"307.4446,-262.0278 308.7863,-251.5182 301.1836,-258.8973 307.4446,-262.0278\"/>\n",
       "</g>\n",
       "<!-- (&#39;Input&#39;, &#39;x2&#39;) -->\n",
       "<g id=\"node2\" class=\"node\">\n",
       "<title>(&#39;Input&#39;, &#39;x2&#39;)</title>\n",
       "<ellipse fill=\"none\" stroke=\"#000000\" cx=\"353.5455\" cy=\"-306\" rx=\"27\" ry=\"18\"/>\n",
       "<text text-anchor=\"middle\" x=\"353.5455\" y=\"-301.8\" font-family=\"Times,serif\" font-size=\"14.00\" fill=\"#000000\">x2</text>\n",
       "</g>\n",
       "<!-- (&#39;Input&#39;, &#39;x2&#39;)&#45;&gt;(&#39;Divide&#39;, (), ((&#39;Input&#39;, &#39;x1&#39;), (&#39;Input&#39;, &#39;x2&#39;))) -->\n",
       "<g id=\"edge2\" class=\"edge\">\n",
       "<title>(&#39;Input&#39;, &#39;x2&#39;)&#45;&gt;(&#39;Divide&#39;, (), ((&#39;Input&#39;, &#39;x1&#39;), (&#39;Input&#39;, &#39;x2&#39;)))</title>\n",
       "<path fill=\"none\" stroke=\"#000000\" d=\"M344.8309,-288.5708C340.617,-280.1431 335.4682,-269.8455 330.7832,-260.4755\"/>\n",
       "<polygon fill=\"#000000\" stroke=\"#000000\" points=\"333.9073,-258.8973 326.3046,-251.5182 327.6463,-262.0278 333.9073,-258.8973\"/>\n",
       "</g>\n",
       "<!-- (&#39;SinglePassStatistics&#39;, (None,), ((&#39;Ratio&#39;, (), ((&#39;Input&#39;, &#39;x1&#39;), (&#39;Input&#39;, &#39;x2&#39;))),)) -->\n",
       "<g id=\"node4\" class=\"node\">\n",
       "<title>(&#39;SinglePassStatistics&#39;, (None,), ((&#39;Ratio&#39;, (), ((&#39;Input&#39;, &#39;x1&#39;), (&#39;Input&#39;, &#39;x2&#39;))),))</title>\n",
       "<ellipse fill=\"none\" stroke=\"#000000\" cx=\"317.5455\" cy=\"-162\" rx=\"80.2421\" ry=\"18\"/>\n",
       "<text text-anchor=\"middle\" x=\"317.5455\" y=\"-157.8\" font-family=\"Times,serif\" font-size=\"14.00\" fill=\"#000000\">SinglePassStatistics</text>\n",
       "</g>\n",
       "<!-- (&#39;Divide&#39;, (), ((&#39;Input&#39;, &#39;x1&#39;), (&#39;Input&#39;, &#39;x2&#39;)))&#45;&gt;(&#39;SinglePassStatistics&#39;, (None,), ((&#39;Ratio&#39;, (), ((&#39;Input&#39;, &#39;x1&#39;), (&#39;Input&#39;, &#39;x2&#39;))),)) -->\n",
       "<g id=\"edge3\" class=\"edge\">\n",
       "<title>(&#39;Divide&#39;, (), ((&#39;Input&#39;, &#39;x1&#39;), (&#39;Input&#39;, &#39;x2&#39;)))&#45;&gt;(&#39;SinglePassStatistics&#39;, (None,), ((&#39;Ratio&#39;, (), ((&#39;Input&#39;, &#39;x1&#39;), (&#39;Input&#39;, &#39;x2&#39;))),))</title>\n",
       "<path fill=\"none\" stroke=\"#000000\" d=\"M317.5455,-215.8314C317.5455,-208.131 317.5455,-198.9743 317.5455,-190.4166\"/>\n",
       "<polygon fill=\"#000000\" stroke=\"#000000\" points=\"321.0456,-190.4132 317.5455,-180.4133 314.0456,-190.4133 321.0456,-190.4132\"/>\n",
       "</g>\n",
       "<!-- (&#39;Slice&#39;, (None, 2), ((&#39;SinglePassStatistics&#39;, (None,), ((&#39;Ratio&#39;, (), ((&#39;Input&#39;, &#39;x1&#39;), (&#39;Input&#39;, &#39;x2&#39;))),)),)) -->\n",
       "<g id=\"node5\" class=\"node\">\n",
       "<title>(&#39;Slice&#39;, (None, 2), ((&#39;SinglePassStatistics&#39;, (None,), ((&#39;Ratio&#39;, (), ((&#39;Input&#39;, &#39;x1&#39;), (&#39;Input&#39;, &#39;x2&#39;))),)),))</title>\n",
       "<ellipse fill=\"none\" stroke=\"#000000\" cx=\"45.5455\" cy=\"-90\" rx=\"45.591\" ry=\"18\"/>\n",
       "<text text-anchor=\"middle\" x=\"45.5455\" y=\"-85.8\" font-family=\"Times,serif\" font-size=\"14.00\" fill=\"#000000\">Slice(i=2)</text>\n",
       "</g>\n",
       "<!-- (&#39;SinglePassStatistics&#39;, (None,), ((&#39;Ratio&#39;, (), ((&#39;Input&#39;, &#39;x1&#39;), (&#39;Input&#39;, &#39;x2&#39;))),))&#45;&gt;(&#39;Slice&#39;, (None, 2), ((&#39;SinglePassStatistics&#39;, (None,), ((&#39;Ratio&#39;, (), ((&#39;Input&#39;, &#39;x1&#39;), (&#39;Input&#39;, &#39;x2&#39;))),)),)) -->\n",
       "<g id=\"edge4\" class=\"edge\">\n",
       "<title>(&#39;SinglePassStatistics&#39;, (None,), ((&#39;Ratio&#39;, (), ((&#39;Input&#39;, &#39;x1&#39;), (&#39;Input&#39;, &#39;x2&#39;))),))&#45;&gt;(&#39;Slice&#39;, (None, 2), ((&#39;SinglePassStatistics&#39;, (None,), ((&#39;Ratio&#39;, (), ((&#39;Input&#39;, &#39;x1&#39;), (&#39;Input&#39;, &#39;x2&#39;))),)),))</title>\n",
       "<path fill=\"none\" stroke=\"#000000\" d=\"M260.7581,-149.2296C216.5711,-138.9809 153.8448,-123.7484 99.5455,-108 96.366,-107.0779 93.0939,-106.0888 89.808,-105.0662\"/>\n",
       "<polygon fill=\"#000000\" stroke=\"#000000\" points=\"90.5778,-101.638 79.987,-101.9308 88.4489,-108.3064 90.5778,-101.638\"/>\n",
       "</g>\n",
       "<!-- (&#39;Slice&#39;, (None, 3), ((&#39;SinglePassStatistics&#39;, (None,), ((&#39;Ratio&#39;, (), ((&#39;Input&#39;, &#39;x1&#39;), (&#39;Input&#39;, &#39;x2&#39;))),)),)) -->\n",
       "<g id=\"node6\" class=\"node\">\n",
       "<title>(&#39;Slice&#39;, (None, 3), ((&#39;SinglePassStatistics&#39;, (None,), ((&#39;Ratio&#39;, (), ((&#39;Input&#39;, &#39;x1&#39;), (&#39;Input&#39;, &#39;x2&#39;))),)),))</title>\n",
       "<ellipse fill=\"none\" stroke=\"#000000\" cx=\"154.5455\" cy=\"-90\" rx=\"45.591\" ry=\"18\"/>\n",
       "<text text-anchor=\"middle\" x=\"154.5455\" y=\"-85.8\" font-family=\"Times,serif\" font-size=\"14.00\" fill=\"#000000\">Slice(i=3)</text>\n",
       "</g>\n",
       "<!-- (&#39;SinglePassStatistics&#39;, (None,), ((&#39;Ratio&#39;, (), ((&#39;Input&#39;, &#39;x1&#39;), (&#39;Input&#39;, &#39;x2&#39;))),))&#45;&gt;(&#39;Slice&#39;, (None, 3), ((&#39;SinglePassStatistics&#39;, (None,), ((&#39;Ratio&#39;, (), ((&#39;Input&#39;, &#39;x1&#39;), (&#39;Input&#39;, &#39;x2&#39;))),)),)) -->\n",
       "<g id=\"edge5\" class=\"edge\">\n",
       "<title>(&#39;SinglePassStatistics&#39;, (None,), ((&#39;Ratio&#39;, (), ((&#39;Input&#39;, &#39;x1&#39;), (&#39;Input&#39;, &#39;x2&#39;))),))&#45;&gt;(&#39;Slice&#39;, (None, 3), ((&#39;SinglePassStatistics&#39;, (None,), ((&#39;Ratio&#39;, (), ((&#39;Input&#39;, &#39;x1&#39;), (&#39;Input&#39;, &#39;x2&#39;))),)),))</title>\n",
       "<path fill=\"none\" stroke=\"#000000\" d=\"M280.9651,-145.8418C255.2173,-134.4685 220.7709,-119.253 194.3375,-107.5769\"/>\n",
       "<polygon fill=\"#000000\" stroke=\"#000000\" points=\"195.554,-104.288 184.9924,-103.449 192.7256,-110.6911 195.554,-104.288\"/>\n",
       "</g>\n",
       "<!-- (&#39;Slice&#39;, (None, 4), ((&#39;SinglePassStatistics&#39;, (None,), ((&#39;Ratio&#39;, (), ((&#39;Input&#39;, &#39;x1&#39;), (&#39;Input&#39;, &#39;x2&#39;))),)),)) -->\n",
       "<g id=\"node7\" class=\"node\">\n",
       "<title>(&#39;Slice&#39;, (None, 4), ((&#39;SinglePassStatistics&#39;, (None,), ((&#39;Ratio&#39;, (), ((&#39;Input&#39;, &#39;x1&#39;), (&#39;Input&#39;, &#39;x2&#39;))),)),))</title>\n",
       "<ellipse fill=\"none\" stroke=\"#000000\" cx=\"263.5455\" cy=\"-90\" rx=\"45.591\" ry=\"18\"/>\n",
       "<text text-anchor=\"middle\" x=\"263.5455\" y=\"-85.8\" font-family=\"Times,serif\" font-size=\"14.00\" fill=\"#000000\">Slice(i=4)</text>\n",
       "</g>\n",
       "<!-- (&#39;SinglePassStatistics&#39;, (None,), ((&#39;Ratio&#39;, (), ((&#39;Input&#39;, &#39;x1&#39;), (&#39;Input&#39;, &#39;x2&#39;))),))&#45;&gt;(&#39;Slice&#39;, (None, 4), ((&#39;SinglePassStatistics&#39;, (None,), ((&#39;Ratio&#39;, (), ((&#39;Input&#39;, &#39;x1&#39;), (&#39;Input&#39;, &#39;x2&#39;))),)),)) -->\n",
       "<g id=\"edge6\" class=\"edge\">\n",
       "<title>(&#39;SinglePassStatistics&#39;, (None,), ((&#39;Ratio&#39;, (), ((&#39;Input&#39;, &#39;x1&#39;), (&#39;Input&#39;, &#39;x2&#39;))),))&#45;&gt;(&#39;Slice&#39;, (None, 4), ((&#39;SinglePassStatistics&#39;, (None,), ((&#39;Ratio&#39;, (), ((&#39;Input&#39;, &#39;x1&#39;), (&#39;Input&#39;, &#39;x2&#39;))),)),))</title>\n",
       "<path fill=\"none\" stroke=\"#000000\" d=\"M304.1971,-144.2022C297.675,-135.506 289.7105,-124.8867 282.5653,-115.3598\"/>\n",
       "<polygon fill=\"#000000\" stroke=\"#000000\" points=\"285.3539,-113.2446 276.5539,-107.3446 279.7539,-117.4446 285.3539,-113.2446\"/>\n",
       "</g>\n",
       "<!-- (&#39;Slice&#39;, (None, 5), ((&#39;SinglePassStatistics&#39;, (None,), ((&#39;Ratio&#39;, (), ((&#39;Input&#39;, &#39;x1&#39;), (&#39;Input&#39;, &#39;x2&#39;))),)),)) -->\n",
       "<g id=\"node8\" class=\"node\">\n",
       "<title>(&#39;Slice&#39;, (None, 5), ((&#39;SinglePassStatistics&#39;, (None,), ((&#39;Ratio&#39;, (), ((&#39;Input&#39;, &#39;x1&#39;), (&#39;Input&#39;, &#39;x2&#39;))),)),))</title>\n",
       "<ellipse fill=\"none\" stroke=\"#000000\" cx=\"372.5455\" cy=\"-90\" rx=\"45.591\" ry=\"18\"/>\n",
       "<text text-anchor=\"middle\" x=\"372.5455\" y=\"-85.8\" font-family=\"Times,serif\" font-size=\"14.00\" fill=\"#000000\">Slice(i=5)</text>\n",
       "</g>\n",
       "<!-- (&#39;SinglePassStatistics&#39;, (None,), ((&#39;Ratio&#39;, (), ((&#39;Input&#39;, &#39;x1&#39;), (&#39;Input&#39;, &#39;x2&#39;))),))&#45;&gt;(&#39;Slice&#39;, (None, 5), ((&#39;SinglePassStatistics&#39;, (None,), ((&#39;Ratio&#39;, (), ((&#39;Input&#39;, &#39;x1&#39;), (&#39;Input&#39;, &#39;x2&#39;))),)),)) -->\n",
       "<g id=\"edge7\" class=\"edge\">\n",
       "<title>(&#39;SinglePassStatistics&#39;, (None,), ((&#39;Ratio&#39;, (), ((&#39;Input&#39;, &#39;x1&#39;), (&#39;Input&#39;, &#39;x2&#39;))),))&#45;&gt;(&#39;Slice&#39;, (None, 5), ((&#39;SinglePassStatistics&#39;, (None,), ((&#39;Ratio&#39;, (), ((&#39;Input&#39;, &#39;x1&#39;), (&#39;Input&#39;, &#39;x2&#39;))),)),))</title>\n",
       "<path fill=\"none\" stroke=\"#000000\" d=\"M331.141,-144.2022C337.7839,-135.506 345.8959,-124.8867 353.1734,-115.3598\"/>\n",
       "<polygon fill=\"#000000\" stroke=\"#000000\" points=\"356.007,-117.416 359.2961,-107.3446 350.4443,-113.1667 356.007,-117.416\"/>\n",
       "</g>\n",
       "<!-- (&#39;Slice&#39;, (None, 6), ((&#39;SinglePassStatistics&#39;, (None,), ((&#39;Ratio&#39;, (), ((&#39;Input&#39;, &#39;x1&#39;), (&#39;Input&#39;, &#39;x2&#39;))),)),)) -->\n",
       "<g id=\"node10\" class=\"node\">\n",
       "<title>(&#39;Slice&#39;, (None, 6), ((&#39;SinglePassStatistics&#39;, (None,), ((&#39;Ratio&#39;, (), ((&#39;Input&#39;, &#39;x1&#39;), (&#39;Input&#39;, &#39;x2&#39;))),)),))</title>\n",
       "<ellipse fill=\"none\" stroke=\"#000000\" cx=\"481.5455\" cy=\"-90\" rx=\"45.591\" ry=\"18\"/>\n",
       "<text text-anchor=\"middle\" x=\"481.5455\" y=\"-85.8\" font-family=\"Times,serif\" font-size=\"14.00\" fill=\"#000000\">Slice(i=6)</text>\n",
       "</g>\n",
       "<!-- (&#39;SinglePassStatistics&#39;, (None,), ((&#39;Ratio&#39;, (), ((&#39;Input&#39;, &#39;x1&#39;), (&#39;Input&#39;, &#39;x2&#39;))),))&#45;&gt;(&#39;Slice&#39;, (None, 6), ((&#39;SinglePassStatistics&#39;, (None,), ((&#39;Ratio&#39;, (), ((&#39;Input&#39;, &#39;x1&#39;), (&#39;Input&#39;, &#39;x2&#39;))),)),)) -->\n",
       "<g id=\"edge9\" class=\"edge\">\n",
       "<title>(&#39;SinglePassStatistics&#39;, (None,), ((&#39;Ratio&#39;, (), ((&#39;Input&#39;, &#39;x1&#39;), (&#39;Input&#39;, &#39;x2&#39;))),))&#45;&gt;(&#39;Slice&#39;, (None, 6), ((&#39;SinglePassStatistics&#39;, (None,), ((&#39;Ratio&#39;, (), ((&#39;Input&#39;, &#39;x1&#39;), (&#39;Input&#39;, &#39;x2&#39;))),)),))</title>\n",
       "<path fill=\"none\" stroke=\"#000000\" d=\"M354.3503,-145.8418C380.256,-134.4685 414.9137,-119.253 441.5093,-107.5769\"/>\n",
       "<polygon fill=\"#000000\" stroke=\"#000000\" points=\"443.1622,-110.6737 450.9117,-103.449 440.3483,-104.2642 443.1622,-110.6737\"/>\n",
       "</g>\n",
       "<!-- (&#39;Slice&#39;, (None, 7), ((&#39;SinglePassStatistics&#39;, (None,), ((&#39;Ratio&#39;, (), ((&#39;Input&#39;, &#39;x1&#39;), (&#39;Input&#39;, &#39;x2&#39;))),)),)) -->\n",
       "<g id=\"node11\" class=\"node\">\n",
       "<title>(&#39;Slice&#39;, (None, 7), ((&#39;SinglePassStatistics&#39;, (None,), ((&#39;Ratio&#39;, (), ((&#39;Input&#39;, &#39;x1&#39;), (&#39;Input&#39;, &#39;x2&#39;))),)),))</title>\n",
       "<ellipse fill=\"none\" stroke=\"#000000\" cx=\"590.5455\" cy=\"-90\" rx=\"45.591\" ry=\"18\"/>\n",
       "<text text-anchor=\"middle\" x=\"590.5455\" y=\"-85.8\" font-family=\"Times,serif\" font-size=\"14.00\" fill=\"#000000\">Slice(i=7)</text>\n",
       "</g>\n",
       "<!-- (&#39;SinglePassStatistics&#39;, (None,), ((&#39;Ratio&#39;, (), ((&#39;Input&#39;, &#39;x1&#39;), (&#39;Input&#39;, &#39;x2&#39;))),))&#45;&gt;(&#39;Slice&#39;, (None, 7), ((&#39;SinglePassStatistics&#39;, (None,), ((&#39;Ratio&#39;, (), ((&#39;Input&#39;, &#39;x1&#39;), (&#39;Input&#39;, &#39;x2&#39;))),)),)) -->\n",
       "<g id=\"edge10\" class=\"edge\">\n",
       "<title>(&#39;SinglePassStatistics&#39;, (None,), ((&#39;Ratio&#39;, (), ((&#39;Input&#39;, &#39;x1&#39;), (&#39;Input&#39;, &#39;x2&#39;))),))&#45;&gt;(&#39;Slice&#39;, (None, 7), ((&#39;SinglePassStatistics&#39;, (None,), ((&#39;Ratio&#39;, (), ((&#39;Input&#39;, &#39;x1&#39;), (&#39;Input&#39;, &#39;x2&#39;))),)),))</title>\n",
       "<path fill=\"none\" stroke=\"#000000\" d=\"M374.5967,-149.2516C418.9881,-139.0147 482.0029,-123.7874 536.5455,-108 539.7254,-107.0796 542.9979,-106.0918 546.2841,-105.07\"/>\n",
       "<polygon fill=\"#000000\" stroke=\"#000000\" points=\"547.6426,-108.3105 556.1055,-101.9363 545.5147,-101.6417 547.6426,-108.3105\"/>\n",
       "</g>\n",
       "<!-- (&#39;Sqrt&#39;, (), ((&#39;Variance&#39;, (None,), ((&#39;Ratio&#39;, (), ((&#39;Input&#39;, &#39;x1&#39;), (&#39;Input&#39;, &#39;x2&#39;))),)),)) -->\n",
       "<g id=\"node9\" class=\"node\">\n",
       "<title>(&#39;Sqrt&#39;, (), ((&#39;Variance&#39;, (None,), ((&#39;Ratio&#39;, (), ((&#39;Input&#39;, &#39;x1&#39;), (&#39;Input&#39;, &#39;x2&#39;))),)),))</title>\n",
       "<ellipse fill=\"none\" stroke=\"#000000\" cx=\"372.5455\" cy=\"-18\" rx=\"27\" ry=\"18\"/>\n",
       "<text text-anchor=\"middle\" x=\"372.5455\" y=\"-13.8\" font-family=\"Times,serif\" font-size=\"14.00\" fill=\"#000000\">Sqrt</text>\n",
       "</g>\n",
       "<!-- (&#39;Slice&#39;, (None, 5), ((&#39;SinglePassStatistics&#39;, (None,), ((&#39;Ratio&#39;, (), ((&#39;Input&#39;, &#39;x1&#39;), (&#39;Input&#39;, &#39;x2&#39;))),)),))&#45;&gt;(&#39;Sqrt&#39;, (), ((&#39;Variance&#39;, (None,), ((&#39;Ratio&#39;, (), ((&#39;Input&#39;, &#39;x1&#39;), (&#39;Input&#39;, &#39;x2&#39;))),)),)) -->\n",
       "<g id=\"edge8\" class=\"edge\">\n",
       "<title>(&#39;Slice&#39;, (None, 5), ((&#39;SinglePassStatistics&#39;, (None,), ((&#39;Ratio&#39;, (), ((&#39;Input&#39;, &#39;x1&#39;), (&#39;Input&#39;, &#39;x2&#39;))),)),))&#45;&gt;(&#39;Sqrt&#39;, (), ((&#39;Variance&#39;, (None,), ((&#39;Ratio&#39;, (), ((&#39;Input&#39;, &#39;x1&#39;), (&#39;Input&#39;, &#39;x2&#39;))),)),))</title>\n",
       "<path fill=\"none\" stroke=\"#000000\" d=\"M372.5455,-71.8314C372.5455,-64.131 372.5455,-54.9743 372.5455,-46.4166\"/>\n",
       "<polygon fill=\"#000000\" stroke=\"#000000\" points=\"376.0456,-46.4132 372.5455,-36.4133 369.0456,-46.4133 376.0456,-46.4132\"/>\n",
       "</g>\n",
       "</g>\n",
       "</svg>\n"
      ],
      "text/plain": [
       "<tsfuse.computation.graph.Graph at 0x1273bacf8>"
      ]
     },
     "execution_count": 5,
     "metadata": {},
     "output_type": "execute_result"
    }
   ],
   "source": [
    "graph"
   ]
  },
  {
   "cell_type": "raw",
   "metadata": {
    "raw_mimetype": "text/restructuredtext"
   },
   "source": [
    "The :class:`tsfuse.transformers.statistics.SinglePassStatistics` transformer computes eight simple statistical features (length, sum, min, max, mean, variance, skewness, kurtosis) at once, i.e., using only a single pass over the time series data. Each :class:`tsfuse.transformers.queries.Slice` transformer selects one of these features."
   ]
  },
  {
   "cell_type": "raw",
   "metadata": {
    "raw_mimetype": "text/restructuredtext"
   },
   "source": [
    "To apply this computation graph, simply call :func:`~tsfuse.computation.Graph.transform` with a time series dictionary ``X`` as argument:"
   ]
  },
  {
   "cell_type": "code",
   "execution_count": 6,
   "metadata": {
    "ExecuteTime": {
     "end_time": "2019-12-09T11:55:30.829811Z",
     "start_time": "2019-12-09T11:55:30.799057Z"
    }
   },
   "outputs": [
    {
     "data": {
      "text/html": [
       "<div>\n",
       "<style scoped>\n",
       "    .dataframe tbody tr th:only-of-type {\n",
       "        vertical-align: middle;\n",
       "    }\n",
       "\n",
       "    .dataframe tbody tr th {\n",
       "        vertical-align: top;\n",
       "    }\n",
       "\n",
       "    .dataframe thead th {\n",
       "        text-align: right;\n",
       "    }\n",
       "</style>\n",
       "<table border=\"1\" class=\"dataframe\">\n",
       "  <thead>\n",
       "    <tr style=\"text-align: right;\">\n",
       "      <th></th>\n",
       "      <th>Slice(SinglePassStatistics(Ratio(Input(x1), Input(x2))), i=2)</th>\n",
       "      <th>Slice(SinglePassStatistics(Ratio(Input(x1), Input(x2))), i=3)</th>\n",
       "      <th>Slice(SinglePassStatistics(Ratio(Input(x1), Input(x2))), i=4)</th>\n",
       "      <th>Slice(SinglePassStatistics(Ratio(Input(x1), Input(x2))), i=5)</th>\n",
       "      <th>Slice(SinglePassStatistics(Ratio(Input(x1), Input(x2))), i=6)</th>\n",
       "      <th>Slice(SinglePassStatistics(Ratio(Input(x1), Input(x2))), i=7)</th>\n",
       "      <th>Sqrt(Variance(Ratio(Input(x1), Input(x2))))</th>\n",
       "    </tr>\n",
       "  </thead>\n",
       "  <tbody>\n",
       "    <tr>\n",
       "      <td>0</td>\n",
       "      <td>1.000000</td>\n",
       "      <td>1.0</td>\n",
       "      <td>1.000000</td>\n",
       "      <td>0.000000</td>\n",
       "      <td>NaN</td>\n",
       "      <td>NaN</td>\n",
       "      <td>0.000000</td>\n",
       "    </tr>\n",
       "    <tr>\n",
       "      <td>1</td>\n",
       "      <td>1.000000</td>\n",
       "      <td>1.0</td>\n",
       "      <td>1.000000</td>\n",
       "      <td>0.000000</td>\n",
       "      <td>NaN</td>\n",
       "      <td>NaN</td>\n",
       "      <td>0.000000</td>\n",
       "    </tr>\n",
       "    <tr>\n",
       "      <td>2</td>\n",
       "      <td>1.000000</td>\n",
       "      <td>1.0</td>\n",
       "      <td>1.000000</td>\n",
       "      <td>0.000000</td>\n",
       "      <td>NaN</td>\n",
       "      <td>NaN</td>\n",
       "      <td>0.000000</td>\n",
       "    </tr>\n",
       "    <tr>\n",
       "      <td>3</td>\n",
       "      <td>0.333333</td>\n",
       "      <td>3.0</td>\n",
       "      <td>1.444444</td>\n",
       "      <td>1.283951</td>\n",
       "      <td>0.528005</td>\n",
       "      <td>-1.5</td>\n",
       "      <td>1.133115</td>\n",
       "    </tr>\n",
       "    <tr>\n",
       "      <td>4</td>\n",
       "      <td>0.333333</td>\n",
       "      <td>3.0</td>\n",
       "      <td>1.444444</td>\n",
       "      <td>1.283951</td>\n",
       "      <td>0.528005</td>\n",
       "      <td>-1.5</td>\n",
       "      <td>1.133115</td>\n",
       "    </tr>\n",
       "    <tr>\n",
       "      <td>5</td>\n",
       "      <td>0.333333</td>\n",
       "      <td>3.0</td>\n",
       "      <td>1.444444</td>\n",
       "      <td>1.283951</td>\n",
       "      <td>0.528005</td>\n",
       "      <td>-1.5</td>\n",
       "      <td>1.133115</td>\n",
       "    </tr>\n",
       "  </tbody>\n",
       "</table>\n",
       "</div>"
      ],
      "text/plain": [
       "   Slice(SinglePassStatistics(Ratio(Input(x1), Input(x2))), i=2)  \\\n",
       "0                                           1.000000               \n",
       "1                                           1.000000               \n",
       "2                                           1.000000               \n",
       "3                                           0.333333               \n",
       "4                                           0.333333               \n",
       "5                                           0.333333               \n",
       "\n",
       "   Slice(SinglePassStatistics(Ratio(Input(x1), Input(x2))), i=3)  \\\n",
       "0                                                1.0               \n",
       "1                                                1.0               \n",
       "2                                                1.0               \n",
       "3                                                3.0               \n",
       "4                                                3.0               \n",
       "5                                                3.0               \n",
       "\n",
       "   Slice(SinglePassStatistics(Ratio(Input(x1), Input(x2))), i=4)  \\\n",
       "0                                           1.000000               \n",
       "1                                           1.000000               \n",
       "2                                           1.000000               \n",
       "3                                           1.444444               \n",
       "4                                           1.444444               \n",
       "5                                           1.444444               \n",
       "\n",
       "   Slice(SinglePassStatistics(Ratio(Input(x1), Input(x2))), i=5)  \\\n",
       "0                                           0.000000               \n",
       "1                                           0.000000               \n",
       "2                                           0.000000               \n",
       "3                                           1.283951               \n",
       "4                                           1.283951               \n",
       "5                                           1.283951               \n",
       "\n",
       "   Slice(SinglePassStatistics(Ratio(Input(x1), Input(x2))), i=6)  \\\n",
       "0                                                NaN               \n",
       "1                                                NaN               \n",
       "2                                                NaN               \n",
       "3                                           0.528005               \n",
       "4                                           0.528005               \n",
       "5                                           0.528005               \n",
       "\n",
       "   Slice(SinglePassStatistics(Ratio(Input(x1), Input(x2))), i=7)  \\\n",
       "0                                                NaN               \n",
       "1                                                NaN               \n",
       "2                                                NaN               \n",
       "3                                               -1.5               \n",
       "4                                               -1.5               \n",
       "5                                               -1.5               \n",
       "\n",
       "   Sqrt(Variance(Ratio(Input(x1), Input(x2))))  \n",
       "0                                     0.000000  \n",
       "1                                     0.000000  \n",
       "2                                     0.000000  \n",
       "3                                     1.133115  \n",
       "4                                     1.133115  \n",
       "5                                     1.133115  "
      ]
     },
     "execution_count": 6,
     "metadata": {},
     "output_type": "execute_result"
    }
   ],
   "source": [
    "graph.transform(X)"
   ]
  },
  {
   "cell_type": "markdown",
   "metadata": {},
   "source": [
    "## Feature computation"
   ]
  },
  {
   "cell_type": "raw",
   "metadata": {
    "raw_mimetype": "text/restructuredtext"
   },
   "source": [
    "Instead of automatically generating a computation graph using the :meth:`~tsfuse.construct` function, it is also possible to define a custom computation graph. To build such a graph, create a :class:`~tsfuse.computation.Graph` object as follows:"
   ]
  },
  {
   "cell_type": "code",
   "execution_count": 7,
   "metadata": {
    "ExecuteTime": {
     "end_time": "2019-12-09T11:55:30.834258Z",
     "start_time": "2019-12-09T11:55:30.831426Z"
    }
   },
   "outputs": [],
   "source": [
    "from tsfuse.computation import Graph\n",
    "graph = Graph()"
   ]
  },
  {
   "cell_type": "raw",
   "metadata": {
    "raw_mimetype": "text/restructuredtext"
   },
   "source": [
    "First, the graph needs placeholders for the input data. These can be created by adding :class:`~tsfuse.computation.Input` nodes to the graph:"
   ]
  },
  {
   "cell_type": "code",
   "execution_count": 8,
   "metadata": {
    "ExecuteTime": {
     "end_time": "2019-12-09T11:55:30.839909Z",
     "start_time": "2019-12-09T11:55:30.836935Z"
    }
   },
   "outputs": [],
   "source": [
    "from tsfuse.computation import Input\n",
    "input1 = graph.add_node(Input('x1'))\n",
    "input2 = graph.add_node(Input('x2'))"
   ]
  },
  {
   "cell_type": "raw",
   "metadata": {
    "raw_mimetype": "text/restructuredtext"
   },
   "source": [
    "Then, add transformer nodes to create new data from the input data. Each transformer has one or more parent nodes which are used as input data. For example, we can define the features of cell [4] as follows:"
   ]
  },
  {
   "cell_type": "code",
   "execution_count": 9,
   "metadata": {
    "ExecuteTime": {
     "end_time": "2019-12-09T11:55:30.890413Z",
     "start_time": "2019-12-09T11:55:30.841516Z"
    }
   },
   "outputs": [
    {
     "data": {
      "image/svg+xml": [
       "<?xml version=\"1.0\" encoding=\"UTF-8\" standalone=\"no\"?>\n",
       "<!DOCTYPE svg PUBLIC \"-//W3C//DTD SVG 1.1//EN\"\n",
       " \"http://www.w3.org/Graphics/SVG/1.1/DTD/svg11.dtd\">\n",
       "<!-- Generated by graphviz version 2.40.1 (20161225.0304)\n",
       " -->\n",
       "<!-- Title: %3 Pages: 1 -->\n",
       "<svg width=\"644pt\" height=\"332pt\"\n",
       " viewBox=\"0.00 0.00 644.09 332.00\" xmlns=\"http://www.w3.org/2000/svg\" xmlns:xlink=\"http://www.w3.org/1999/xlink\">\n",
       "<g id=\"graph0\" class=\"graph\" transform=\"scale(1 1) rotate(0) translate(4 328)\">\n",
       "<title>%3</title>\n",
       "<polygon fill=\"#ffffff\" stroke=\"transparent\" points=\"-4,4 -4,-328 640.0909,-328 640.0909,4 -4,4\"/>\n",
       "<!-- (&#39;Input&#39;, &#39;x1&#39;) -->\n",
       "<g id=\"node1\" class=\"node\">\n",
       "<title>(&#39;Input&#39;, &#39;x1&#39;)</title>\n",
       "<ellipse fill=\"none\" stroke=\"#000000\" cx=\"281.5455\" cy=\"-306\" rx=\"27\" ry=\"18\"/>\n",
       "<text text-anchor=\"middle\" x=\"281.5455\" y=\"-301.8\" font-family=\"Times,serif\" font-size=\"14.00\" fill=\"#000000\">x1</text>\n",
       "</g>\n",
       "<!-- (&#39;Divide&#39;, (), ((&#39;Input&#39;, &#39;x1&#39;), (&#39;Input&#39;, &#39;x2&#39;))) -->\n",
       "<g id=\"node3\" class=\"node\">\n",
       "<title>(&#39;Divide&#39;, (), ((&#39;Input&#39;, &#39;x1&#39;), (&#39;Input&#39;, &#39;x2&#39;)))</title>\n",
       "<ellipse fill=\"none\" stroke=\"#000000\" cx=\"317.5455\" cy=\"-234\" rx=\"34.3527\" ry=\"18\"/>\n",
       "<text text-anchor=\"middle\" x=\"317.5455\" y=\"-229.8\" font-family=\"Times,serif\" font-size=\"14.00\" fill=\"#000000\">Divide</text>\n",
       "</g>\n",
       "<!-- (&#39;Input&#39;, &#39;x1&#39;)&#45;&gt;(&#39;Divide&#39;, (), ((&#39;Input&#39;, &#39;x1&#39;), (&#39;Input&#39;, &#39;x2&#39;))) -->\n",
       "<g id=\"edge1\" class=\"edge\">\n",
       "<title>(&#39;Input&#39;, &#39;x1&#39;)&#45;&gt;(&#39;Divide&#39;, (), ((&#39;Input&#39;, &#39;x1&#39;), (&#39;Input&#39;, &#39;x2&#39;)))</title>\n",
       "<path fill=\"none\" stroke=\"#000000\" d=\"M290.2601,-288.5708C294.4739,-280.1431 299.6227,-269.8455 304.3077,-260.4755\"/>\n",
       "<polygon fill=\"#000000\" stroke=\"#000000\" points=\"307.4446,-262.0278 308.7863,-251.5182 301.1836,-258.8973 307.4446,-262.0278\"/>\n",
       "</g>\n",
       "<!-- (&#39;Input&#39;, &#39;x2&#39;) -->\n",
       "<g id=\"node2\" class=\"node\">\n",
       "<title>(&#39;Input&#39;, &#39;x2&#39;)</title>\n",
       "<ellipse fill=\"none\" stroke=\"#000000\" cx=\"353.5455\" cy=\"-306\" rx=\"27\" ry=\"18\"/>\n",
       "<text text-anchor=\"middle\" x=\"353.5455\" y=\"-301.8\" font-family=\"Times,serif\" font-size=\"14.00\" fill=\"#000000\">x2</text>\n",
       "</g>\n",
       "<!-- (&#39;Input&#39;, &#39;x2&#39;)&#45;&gt;(&#39;Divide&#39;, (), ((&#39;Input&#39;, &#39;x1&#39;), (&#39;Input&#39;, &#39;x2&#39;))) -->\n",
       "<g id=\"edge2\" class=\"edge\">\n",
       "<title>(&#39;Input&#39;, &#39;x2&#39;)&#45;&gt;(&#39;Divide&#39;, (), ((&#39;Input&#39;, &#39;x1&#39;), (&#39;Input&#39;, &#39;x2&#39;)))</title>\n",
       "<path fill=\"none\" stroke=\"#000000\" d=\"M344.8309,-288.5708C340.617,-280.1431 335.4682,-269.8455 330.7832,-260.4755\"/>\n",
       "<polygon fill=\"#000000\" stroke=\"#000000\" points=\"333.9073,-258.8973 326.3046,-251.5182 327.6463,-262.0278 333.9073,-258.8973\"/>\n",
       "</g>\n",
       "<!-- (&#39;SinglePassStatistics&#39;, (None,), ((&#39;Divide&#39;, (), ((&#39;Input&#39;, &#39;x1&#39;), (&#39;Input&#39;, &#39;x2&#39;))),)) -->\n",
       "<g id=\"node4\" class=\"node\">\n",
       "<title>(&#39;SinglePassStatistics&#39;, (None,), ((&#39;Divide&#39;, (), ((&#39;Input&#39;, &#39;x1&#39;), (&#39;Input&#39;, &#39;x2&#39;))),))</title>\n",
       "<ellipse fill=\"none\" stroke=\"#000000\" cx=\"317.5455\" cy=\"-162\" rx=\"80.2421\" ry=\"18\"/>\n",
       "<text text-anchor=\"middle\" x=\"317.5455\" y=\"-157.8\" font-family=\"Times,serif\" font-size=\"14.00\" fill=\"#000000\">SinglePassStatistics</text>\n",
       "</g>\n",
       "<!-- (&#39;Divide&#39;, (), ((&#39;Input&#39;, &#39;x1&#39;), (&#39;Input&#39;, &#39;x2&#39;)))&#45;&gt;(&#39;SinglePassStatistics&#39;, (None,), ((&#39;Divide&#39;, (), ((&#39;Input&#39;, &#39;x1&#39;), (&#39;Input&#39;, &#39;x2&#39;))),)) -->\n",
       "<g id=\"edge3\" class=\"edge\">\n",
       "<title>(&#39;Divide&#39;, (), ((&#39;Input&#39;, &#39;x1&#39;), (&#39;Input&#39;, &#39;x2&#39;)))&#45;&gt;(&#39;SinglePassStatistics&#39;, (None,), ((&#39;Divide&#39;, (), ((&#39;Input&#39;, &#39;x1&#39;), (&#39;Input&#39;, &#39;x2&#39;))),))</title>\n",
       "<path fill=\"none\" stroke=\"#000000\" d=\"M317.5455,-215.8314C317.5455,-208.131 317.5455,-198.9743 317.5455,-190.4166\"/>\n",
       "<polygon fill=\"#000000\" stroke=\"#000000\" points=\"321.0456,-190.4132 317.5455,-180.4133 314.0456,-190.4133 321.0456,-190.4132\"/>\n",
       "</g>\n",
       "<!-- (&#39;Slice&#39;, (None, 2), ((&#39;SinglePassStatistics&#39;, (None,), ((&#39;Divide&#39;, (), ((&#39;Input&#39;, &#39;x1&#39;), (&#39;Input&#39;, &#39;x2&#39;))),)),)) -->\n",
       "<g id=\"node5\" class=\"node\">\n",
       "<title>(&#39;Slice&#39;, (None, 2), ((&#39;SinglePassStatistics&#39;, (None,), ((&#39;Divide&#39;, (), ((&#39;Input&#39;, &#39;x1&#39;), (&#39;Input&#39;, &#39;x2&#39;))),)),))</title>\n",
       "<ellipse fill=\"none\" stroke=\"#000000\" cx=\"45.5455\" cy=\"-90\" rx=\"45.591\" ry=\"18\"/>\n",
       "<text text-anchor=\"middle\" x=\"45.5455\" y=\"-85.8\" font-family=\"Times,serif\" font-size=\"14.00\" fill=\"#000000\">Slice(i=2)</text>\n",
       "</g>\n",
       "<!-- (&#39;SinglePassStatistics&#39;, (None,), ((&#39;Divide&#39;, (), ((&#39;Input&#39;, &#39;x1&#39;), (&#39;Input&#39;, &#39;x2&#39;))),))&#45;&gt;(&#39;Slice&#39;, (None, 2), ((&#39;SinglePassStatistics&#39;, (None,), ((&#39;Divide&#39;, (), ((&#39;Input&#39;, &#39;x1&#39;), (&#39;Input&#39;, &#39;x2&#39;))),)),)) -->\n",
       "<g id=\"edge4\" class=\"edge\">\n",
       "<title>(&#39;SinglePassStatistics&#39;, (None,), ((&#39;Divide&#39;, (), ((&#39;Input&#39;, &#39;x1&#39;), (&#39;Input&#39;, &#39;x2&#39;))),))&#45;&gt;(&#39;Slice&#39;, (None, 2), ((&#39;SinglePassStatistics&#39;, (None,), ((&#39;Divide&#39;, (), ((&#39;Input&#39;, &#39;x1&#39;), (&#39;Input&#39;, &#39;x2&#39;))),)),))</title>\n",
       "<path fill=\"none\" stroke=\"#000000\" d=\"M260.7581,-149.2296C216.5711,-138.9809 153.8448,-123.7484 99.5455,-108 96.366,-107.0779 93.0939,-106.0888 89.808,-105.0662\"/>\n",
       "<polygon fill=\"#000000\" stroke=\"#000000\" points=\"90.5778,-101.638 79.987,-101.9308 88.4489,-108.3064 90.5778,-101.638\"/>\n",
       "</g>\n",
       "<!-- (&#39;Slice&#39;, (None, 3), ((&#39;SinglePassStatistics&#39;, (None,), ((&#39;Divide&#39;, (), ((&#39;Input&#39;, &#39;x1&#39;), (&#39;Input&#39;, &#39;x2&#39;))),)),)) -->\n",
       "<g id=\"node6\" class=\"node\">\n",
       "<title>(&#39;Slice&#39;, (None, 3), ((&#39;SinglePassStatistics&#39;, (None,), ((&#39;Divide&#39;, (), ((&#39;Input&#39;, &#39;x1&#39;), (&#39;Input&#39;, &#39;x2&#39;))),)),))</title>\n",
       "<ellipse fill=\"none\" stroke=\"#000000\" cx=\"154.5455\" cy=\"-90\" rx=\"45.591\" ry=\"18\"/>\n",
       "<text text-anchor=\"middle\" x=\"154.5455\" y=\"-85.8\" font-family=\"Times,serif\" font-size=\"14.00\" fill=\"#000000\">Slice(i=3)</text>\n",
       "</g>\n",
       "<!-- (&#39;SinglePassStatistics&#39;, (None,), ((&#39;Divide&#39;, (), ((&#39;Input&#39;, &#39;x1&#39;), (&#39;Input&#39;, &#39;x2&#39;))),))&#45;&gt;(&#39;Slice&#39;, (None, 3), ((&#39;SinglePassStatistics&#39;, (None,), ((&#39;Divide&#39;, (), ((&#39;Input&#39;, &#39;x1&#39;), (&#39;Input&#39;, &#39;x2&#39;))),)),)) -->\n",
       "<g id=\"edge5\" class=\"edge\">\n",
       "<title>(&#39;SinglePassStatistics&#39;, (None,), ((&#39;Divide&#39;, (), ((&#39;Input&#39;, &#39;x1&#39;), (&#39;Input&#39;, &#39;x2&#39;))),))&#45;&gt;(&#39;Slice&#39;, (None, 3), ((&#39;SinglePassStatistics&#39;, (None,), ((&#39;Divide&#39;, (), ((&#39;Input&#39;, &#39;x1&#39;), (&#39;Input&#39;, &#39;x2&#39;))),)),))</title>\n",
       "<path fill=\"none\" stroke=\"#000000\" d=\"M280.9651,-145.8418C255.2173,-134.4685 220.7709,-119.253 194.3375,-107.5769\"/>\n",
       "<polygon fill=\"#000000\" stroke=\"#000000\" points=\"195.554,-104.288 184.9924,-103.449 192.7256,-110.6911 195.554,-104.288\"/>\n",
       "</g>\n",
       "<!-- (&#39;Slice&#39;, (None, 4), ((&#39;SinglePassStatistics&#39;, (None,), ((&#39;Divide&#39;, (), ((&#39;Input&#39;, &#39;x1&#39;), (&#39;Input&#39;, &#39;x2&#39;))),)),)) -->\n",
       "<g id=\"node7\" class=\"node\">\n",
       "<title>(&#39;Slice&#39;, (None, 4), ((&#39;SinglePassStatistics&#39;, (None,), ((&#39;Divide&#39;, (), ((&#39;Input&#39;, &#39;x1&#39;), (&#39;Input&#39;, &#39;x2&#39;))),)),))</title>\n",
       "<ellipse fill=\"none\" stroke=\"#000000\" cx=\"263.5455\" cy=\"-90\" rx=\"45.591\" ry=\"18\"/>\n",
       "<text text-anchor=\"middle\" x=\"263.5455\" y=\"-85.8\" font-family=\"Times,serif\" font-size=\"14.00\" fill=\"#000000\">Slice(i=4)</text>\n",
       "</g>\n",
       "<!-- (&#39;SinglePassStatistics&#39;, (None,), ((&#39;Divide&#39;, (), ((&#39;Input&#39;, &#39;x1&#39;), (&#39;Input&#39;, &#39;x2&#39;))),))&#45;&gt;(&#39;Slice&#39;, (None, 4), ((&#39;SinglePassStatistics&#39;, (None,), ((&#39;Divide&#39;, (), ((&#39;Input&#39;, &#39;x1&#39;), (&#39;Input&#39;, &#39;x2&#39;))),)),)) -->\n",
       "<g id=\"edge6\" class=\"edge\">\n",
       "<title>(&#39;SinglePassStatistics&#39;, (None,), ((&#39;Divide&#39;, (), ((&#39;Input&#39;, &#39;x1&#39;), (&#39;Input&#39;, &#39;x2&#39;))),))&#45;&gt;(&#39;Slice&#39;, (None, 4), ((&#39;SinglePassStatistics&#39;, (None,), ((&#39;Divide&#39;, (), ((&#39;Input&#39;, &#39;x1&#39;), (&#39;Input&#39;, &#39;x2&#39;))),)),))</title>\n",
       "<path fill=\"none\" stroke=\"#000000\" d=\"M304.1971,-144.2022C297.675,-135.506 289.7105,-124.8867 282.5653,-115.3598\"/>\n",
       "<polygon fill=\"#000000\" stroke=\"#000000\" points=\"285.3539,-113.2446 276.5539,-107.3446 279.7539,-117.4446 285.3539,-113.2446\"/>\n",
       "</g>\n",
       "<!-- (&#39;Slice&#39;, (None, 5), ((&#39;SinglePassStatistics&#39;, (None,), ((&#39;Divide&#39;, (), ((&#39;Input&#39;, &#39;x1&#39;), (&#39;Input&#39;, &#39;x2&#39;))),)),)) -->\n",
       "<g id=\"node8\" class=\"node\">\n",
       "<title>(&#39;Slice&#39;, (None, 5), ((&#39;SinglePassStatistics&#39;, (None,), ((&#39;Divide&#39;, (), ((&#39;Input&#39;, &#39;x1&#39;), (&#39;Input&#39;, &#39;x2&#39;))),)),))</title>\n",
       "<ellipse fill=\"none\" stroke=\"#000000\" cx=\"372.5455\" cy=\"-90\" rx=\"45.591\" ry=\"18\"/>\n",
       "<text text-anchor=\"middle\" x=\"372.5455\" y=\"-85.8\" font-family=\"Times,serif\" font-size=\"14.00\" fill=\"#000000\">Slice(i=5)</text>\n",
       "</g>\n",
       "<!-- (&#39;SinglePassStatistics&#39;, (None,), ((&#39;Divide&#39;, (), ((&#39;Input&#39;, &#39;x1&#39;), (&#39;Input&#39;, &#39;x2&#39;))),))&#45;&gt;(&#39;Slice&#39;, (None, 5), ((&#39;SinglePassStatistics&#39;, (None,), ((&#39;Divide&#39;, (), ((&#39;Input&#39;, &#39;x1&#39;), (&#39;Input&#39;, &#39;x2&#39;))),)),)) -->\n",
       "<g id=\"edge7\" class=\"edge\">\n",
       "<title>(&#39;SinglePassStatistics&#39;, (None,), ((&#39;Divide&#39;, (), ((&#39;Input&#39;, &#39;x1&#39;), (&#39;Input&#39;, &#39;x2&#39;))),))&#45;&gt;(&#39;Slice&#39;, (None, 5), ((&#39;SinglePassStatistics&#39;, (None,), ((&#39;Divide&#39;, (), ((&#39;Input&#39;, &#39;x1&#39;), (&#39;Input&#39;, &#39;x2&#39;))),)),))</title>\n",
       "<path fill=\"none\" stroke=\"#000000\" d=\"M331.141,-144.2022C337.7839,-135.506 345.8959,-124.8867 353.1734,-115.3598\"/>\n",
       "<polygon fill=\"#000000\" stroke=\"#000000\" points=\"356.007,-117.416 359.2961,-107.3446 350.4443,-113.1667 356.007,-117.416\"/>\n",
       "</g>\n",
       "<!-- (&#39;Slice&#39;, (None, 6), ((&#39;SinglePassStatistics&#39;, (None,), ((&#39;Divide&#39;, (), ((&#39;Input&#39;, &#39;x1&#39;), (&#39;Input&#39;, &#39;x2&#39;))),)),)) -->\n",
       "<g id=\"node10\" class=\"node\">\n",
       "<title>(&#39;Slice&#39;, (None, 6), ((&#39;SinglePassStatistics&#39;, (None,), ((&#39;Divide&#39;, (), ((&#39;Input&#39;, &#39;x1&#39;), (&#39;Input&#39;, &#39;x2&#39;))),)),))</title>\n",
       "<ellipse fill=\"none\" stroke=\"#000000\" cx=\"481.5455\" cy=\"-90\" rx=\"45.591\" ry=\"18\"/>\n",
       "<text text-anchor=\"middle\" x=\"481.5455\" y=\"-85.8\" font-family=\"Times,serif\" font-size=\"14.00\" fill=\"#000000\">Slice(i=6)</text>\n",
       "</g>\n",
       "<!-- (&#39;SinglePassStatistics&#39;, (None,), ((&#39;Divide&#39;, (), ((&#39;Input&#39;, &#39;x1&#39;), (&#39;Input&#39;, &#39;x2&#39;))),))&#45;&gt;(&#39;Slice&#39;, (None, 6), ((&#39;SinglePassStatistics&#39;, (None,), ((&#39;Divide&#39;, (), ((&#39;Input&#39;, &#39;x1&#39;), (&#39;Input&#39;, &#39;x2&#39;))),)),)) -->\n",
       "<g id=\"edge9\" class=\"edge\">\n",
       "<title>(&#39;SinglePassStatistics&#39;, (None,), ((&#39;Divide&#39;, (), ((&#39;Input&#39;, &#39;x1&#39;), (&#39;Input&#39;, &#39;x2&#39;))),))&#45;&gt;(&#39;Slice&#39;, (None, 6), ((&#39;SinglePassStatistics&#39;, (None,), ((&#39;Divide&#39;, (), ((&#39;Input&#39;, &#39;x1&#39;), (&#39;Input&#39;, &#39;x2&#39;))),)),))</title>\n",
       "<path fill=\"none\" stroke=\"#000000\" d=\"M354.3503,-145.8418C380.256,-134.4685 414.9137,-119.253 441.5093,-107.5769\"/>\n",
       "<polygon fill=\"#000000\" stroke=\"#000000\" points=\"443.1622,-110.6737 450.9117,-103.449 440.3483,-104.2642 443.1622,-110.6737\"/>\n",
       "</g>\n",
       "<!-- (&#39;Slice&#39;, (None, 7), ((&#39;SinglePassStatistics&#39;, (None,), ((&#39;Divide&#39;, (), ((&#39;Input&#39;, &#39;x1&#39;), (&#39;Input&#39;, &#39;x2&#39;))),)),)) -->\n",
       "<g id=\"node11\" class=\"node\">\n",
       "<title>(&#39;Slice&#39;, (None, 7), ((&#39;SinglePassStatistics&#39;, (None,), ((&#39;Divide&#39;, (), ((&#39;Input&#39;, &#39;x1&#39;), (&#39;Input&#39;, &#39;x2&#39;))),)),))</title>\n",
       "<ellipse fill=\"none\" stroke=\"#000000\" cx=\"590.5455\" cy=\"-90\" rx=\"45.591\" ry=\"18\"/>\n",
       "<text text-anchor=\"middle\" x=\"590.5455\" y=\"-85.8\" font-family=\"Times,serif\" font-size=\"14.00\" fill=\"#000000\">Slice(i=7)</text>\n",
       "</g>\n",
       "<!-- (&#39;SinglePassStatistics&#39;, (None,), ((&#39;Divide&#39;, (), ((&#39;Input&#39;, &#39;x1&#39;), (&#39;Input&#39;, &#39;x2&#39;))),))&#45;&gt;(&#39;Slice&#39;, (None, 7), ((&#39;SinglePassStatistics&#39;, (None,), ((&#39;Divide&#39;, (), ((&#39;Input&#39;, &#39;x1&#39;), (&#39;Input&#39;, &#39;x2&#39;))),)),)) -->\n",
       "<g id=\"edge10\" class=\"edge\">\n",
       "<title>(&#39;SinglePassStatistics&#39;, (None,), ((&#39;Divide&#39;, (), ((&#39;Input&#39;, &#39;x1&#39;), (&#39;Input&#39;, &#39;x2&#39;))),))&#45;&gt;(&#39;Slice&#39;, (None, 7), ((&#39;SinglePassStatistics&#39;, (None,), ((&#39;Divide&#39;, (), ((&#39;Input&#39;, &#39;x1&#39;), (&#39;Input&#39;, &#39;x2&#39;))),)),))</title>\n",
       "<path fill=\"none\" stroke=\"#000000\" d=\"M374.5967,-149.2516C418.9881,-139.0147 482.0029,-123.7874 536.5455,-108 539.7254,-107.0796 542.9979,-106.0918 546.2841,-105.07\"/>\n",
       "<polygon fill=\"#000000\" stroke=\"#000000\" points=\"547.6426,-108.3105 556.1055,-101.9363 545.5147,-101.6417 547.6426,-108.3105\"/>\n",
       "</g>\n",
       "<!-- (&#39;Sqrt&#39;, (), ((&#39;Slice&#39;, (None, 5), ((&#39;SinglePassStatistics&#39;, (None,), ((&#39;Divide&#39;, (), ((&#39;Input&#39;, &#39;x1&#39;), (&#39;Input&#39;, &#39;x2&#39;))),)),)),)) -->\n",
       "<g id=\"node9\" class=\"node\">\n",
       "<title>(&#39;Sqrt&#39;, (), ((&#39;Slice&#39;, (None, 5), ((&#39;SinglePassStatistics&#39;, (None,), ((&#39;Divide&#39;, (), ((&#39;Input&#39;, &#39;x1&#39;), (&#39;Input&#39;, &#39;x2&#39;))),)),)),))</title>\n",
       "<ellipse fill=\"none\" stroke=\"#000000\" cx=\"372.5455\" cy=\"-18\" rx=\"27\" ry=\"18\"/>\n",
       "<text text-anchor=\"middle\" x=\"372.5455\" y=\"-13.8\" font-family=\"Times,serif\" font-size=\"14.00\" fill=\"#000000\">Sqrt</text>\n",
       "</g>\n",
       "<!-- (&#39;Slice&#39;, (None, 5), ((&#39;SinglePassStatistics&#39;, (None,), ((&#39;Divide&#39;, (), ((&#39;Input&#39;, &#39;x1&#39;), (&#39;Input&#39;, &#39;x2&#39;))),)),))&#45;&gt;(&#39;Sqrt&#39;, (), ((&#39;Slice&#39;, (None, 5), ((&#39;SinglePassStatistics&#39;, (None,), ((&#39;Divide&#39;, (), ((&#39;Input&#39;, &#39;x1&#39;), (&#39;Input&#39;, &#39;x2&#39;))),)),)),)) -->\n",
       "<g id=\"edge8\" class=\"edge\">\n",
       "<title>(&#39;Slice&#39;, (None, 5), ((&#39;SinglePassStatistics&#39;, (None,), ((&#39;Divide&#39;, (), ((&#39;Input&#39;, &#39;x1&#39;), (&#39;Input&#39;, &#39;x2&#39;))),)),))&#45;&gt;(&#39;Sqrt&#39;, (), ((&#39;Slice&#39;, (None, 5), ((&#39;SinglePassStatistics&#39;, (None,), ((&#39;Divide&#39;, (), ((&#39;Input&#39;, &#39;x1&#39;), (&#39;Input&#39;, &#39;x2&#39;))),)),)),))</title>\n",
       "<path fill=\"none\" stroke=\"#000000\" d=\"M372.5455,-71.8314C372.5455,-64.131 372.5455,-54.9743 372.5455,-46.4166\"/>\n",
       "<polygon fill=\"#000000\" stroke=\"#000000\" points=\"376.0456,-46.4132 372.5455,-36.4133 369.0456,-46.4133 376.0456,-46.4132\"/>\n",
       "</g>\n",
       "</g>\n",
       "</svg>\n"
      ],
      "text/plain": [
       "<tsfuse.computation.graph.Graph at 0x1273baf60>"
      ]
     },
     "execution_count": 9,
     "metadata": {},
     "output_type": "execute_result"
    }
   ],
   "source": [
    "from tsfuse.transformers import Slice, SinglePassStatistics, Divide, Sqrt\n",
    "\n",
    "graph.add_node(Slice(SinglePassStatistics(Divide(input1, input2)), i=2))\n",
    "graph.add_node(Slice(SinglePassStatistics(Divide(input1, input2)), i=3))\n",
    "graph.add_node(Slice(SinglePassStatistics(Divide(input1, input2)), i=4))\n",
    "graph.add_node(Sqrt(Slice(SinglePassStatistics(Divide(input1, input2)), i=5)))\n",
    "graph.add_node(Slice(SinglePassStatistics(Divide(input1, input2)), i=6))\n",
    "graph.add_node(Slice(SinglePassStatistics(Divide(input1, input2)), i=7))\n",
    "\n",
    "graph"
   ]
  },
  {
   "cell_type": "raw",
   "metadata": {
    "raw_mimetype": "text/restructuredtext"
   },
   "source": [
    "This is the same graph as the one we constructed previously, and we can use it in the same way to compute features:"
   ]
  },
  {
   "cell_type": "code",
   "execution_count": 10,
   "metadata": {
    "ExecuteTime": {
     "end_time": "2019-12-09T11:55:30.919927Z",
     "start_time": "2019-12-09T11:55:30.892836Z"
    }
   },
   "outputs": [
    {
     "data": {
      "text/html": [
       "<div>\n",
       "<style scoped>\n",
       "    .dataframe tbody tr th:only-of-type {\n",
       "        vertical-align: middle;\n",
       "    }\n",
       "\n",
       "    .dataframe tbody tr th {\n",
       "        vertical-align: top;\n",
       "    }\n",
       "\n",
       "    .dataframe thead th {\n",
       "        text-align: right;\n",
       "    }\n",
       "</style>\n",
       "<table border=\"1\" class=\"dataframe\">\n",
       "  <thead>\n",
       "    <tr style=\"text-align: right;\">\n",
       "      <th></th>\n",
       "      <th>Slice(SinglePassStatistics(Divide(Input(x1), Input(x2))), i=2)</th>\n",
       "      <th>Slice(SinglePassStatistics(Divide(Input(x1), Input(x2))), i=3)</th>\n",
       "      <th>Slice(SinglePassStatistics(Divide(Input(x1), Input(x2))), i=4)</th>\n",
       "      <th>Slice(SinglePassStatistics(Divide(Input(x1), Input(x2))), i=6)</th>\n",
       "      <th>Slice(SinglePassStatistics(Divide(Input(x1), Input(x2))), i=7)</th>\n",
       "      <th>Sqrt(Slice(SinglePassStatistics(Divide(Input(x1), Input(x2))), i=5))</th>\n",
       "    </tr>\n",
       "  </thead>\n",
       "  <tbody>\n",
       "    <tr>\n",
       "      <td>0</td>\n",
       "      <td>1.000000</td>\n",
       "      <td>1.0</td>\n",
       "      <td>1.000000</td>\n",
       "      <td>NaN</td>\n",
       "      <td>NaN</td>\n",
       "      <td>0.000000</td>\n",
       "    </tr>\n",
       "    <tr>\n",
       "      <td>1</td>\n",
       "      <td>1.000000</td>\n",
       "      <td>1.0</td>\n",
       "      <td>1.000000</td>\n",
       "      <td>NaN</td>\n",
       "      <td>NaN</td>\n",
       "      <td>0.000000</td>\n",
       "    </tr>\n",
       "    <tr>\n",
       "      <td>2</td>\n",
       "      <td>1.000000</td>\n",
       "      <td>1.0</td>\n",
       "      <td>1.000000</td>\n",
       "      <td>NaN</td>\n",
       "      <td>NaN</td>\n",
       "      <td>0.000000</td>\n",
       "    </tr>\n",
       "    <tr>\n",
       "      <td>3</td>\n",
       "      <td>0.333333</td>\n",
       "      <td>3.0</td>\n",
       "      <td>1.444444</td>\n",
       "      <td>0.528005</td>\n",
       "      <td>-1.5</td>\n",
       "      <td>1.133115</td>\n",
       "    </tr>\n",
       "    <tr>\n",
       "      <td>4</td>\n",
       "      <td>0.333333</td>\n",
       "      <td>3.0</td>\n",
       "      <td>1.444444</td>\n",
       "      <td>0.528005</td>\n",
       "      <td>-1.5</td>\n",
       "      <td>1.133115</td>\n",
       "    </tr>\n",
       "    <tr>\n",
       "      <td>5</td>\n",
       "      <td>0.333333</td>\n",
       "      <td>3.0</td>\n",
       "      <td>1.444444</td>\n",
       "      <td>0.528005</td>\n",
       "      <td>-1.5</td>\n",
       "      <td>1.133115</td>\n",
       "    </tr>\n",
       "  </tbody>\n",
       "</table>\n",
       "</div>"
      ],
      "text/plain": [
       "   Slice(SinglePassStatistics(Divide(Input(x1), Input(x2))), i=2)  \\\n",
       "0                                           1.000000                \n",
       "1                                           1.000000                \n",
       "2                                           1.000000                \n",
       "3                                           0.333333                \n",
       "4                                           0.333333                \n",
       "5                                           0.333333                \n",
       "\n",
       "   Slice(SinglePassStatistics(Divide(Input(x1), Input(x2))), i=3)  \\\n",
       "0                                                1.0                \n",
       "1                                                1.0                \n",
       "2                                                1.0                \n",
       "3                                                3.0                \n",
       "4                                                3.0                \n",
       "5                                                3.0                \n",
       "\n",
       "   Slice(SinglePassStatistics(Divide(Input(x1), Input(x2))), i=4)  \\\n",
       "0                                           1.000000                \n",
       "1                                           1.000000                \n",
       "2                                           1.000000                \n",
       "3                                           1.444444                \n",
       "4                                           1.444444                \n",
       "5                                           1.444444                \n",
       "\n",
       "   Slice(SinglePassStatistics(Divide(Input(x1), Input(x2))), i=6)  \\\n",
       "0                                                NaN                \n",
       "1                                                NaN                \n",
       "2                                                NaN                \n",
       "3                                           0.528005                \n",
       "4                                           0.528005                \n",
       "5                                           0.528005                \n",
       "\n",
       "   Slice(SinglePassStatistics(Divide(Input(x1), Input(x2))), i=7)  \\\n",
       "0                                                NaN                \n",
       "1                                                NaN                \n",
       "2                                                NaN                \n",
       "3                                               -1.5                \n",
       "4                                               -1.5                \n",
       "5                                               -1.5                \n",
       "\n",
       "   Sqrt(Slice(SinglePassStatistics(Divide(Input(x1), Input(x2))), i=5))  \n",
       "0                                           0.000000                     \n",
       "1                                           0.000000                     \n",
       "2                                           0.000000                     \n",
       "3                                           1.133115                     \n",
       "4                                           1.133115                     \n",
       "5                                           1.133115                     "
      ]
     },
     "execution_count": 10,
     "metadata": {},
     "output_type": "execute_result"
    }
   ],
   "source": [
    "graph.transform(X)"
   ]
  }
 ],
 "metadata": {
  "celltoolbar": "Raw Cell Format",
  "kernelspec": {
   "display_name": "Python [conda env:tsfuse]",
   "language": "python",
   "name": "conda-env-tsfuse-py"
  },
  "language_info": {
   "codemirror_mode": {
    "name": "ipython",
    "version": 3
   },
   "file_extension": ".py",
   "mimetype": "text/x-python",
   "name": "python",
   "nbconvert_exporter": "python",
   "pygments_lexer": "ipython3",
   "version": "3.6.9"
  },
  "toc": {
   "base_numbering": 1,
   "nav_menu": {},
   "number_sections": true,
   "sideBar": true,
   "skip_h1_title": false,
   "title_cell": "Table of Contents",
   "title_sidebar": "Contents",
   "toc_cell": false,
   "toc_position": {
    "height": "calc(100% - 180px)",
    "left": "10px",
    "top": "150px",
    "width": "288px"
   },
   "toc_section_display": true,
   "toc_window_display": true
  }
 },
 "nbformat": 4,
 "nbformat_minor": 2
}
