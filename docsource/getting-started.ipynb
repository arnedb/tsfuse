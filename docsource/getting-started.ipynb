{
 "cells": [
  {
   "cell_type": "markdown",
   "metadata": {},
   "source": [
    "# Getting started"
   ]
  },
  {
   "cell_type": "raw",
   "metadata": {
    "raw_mimetype": "text/restructuredtext"
   },
   "source": [
    "The example below shows the basic usage of TSFuse."
   ]
  },
  {
   "cell_type": "markdown",
   "metadata": {},
   "source": [
    "## Data representation"
   ]
  },
  {
   "cell_type": "raw",
   "metadata": {
    "raw_mimetype": "text/restructuredtext"
   },
   "source": [
    "As input, the system requires a dataset where each instance is a window that consists of time series and a label."
   ]
  },
  {
   "cell_type": "markdown",
   "metadata": {},
   "source": [
    "### Time series"
   ]
  },
  {
   "cell_type": "raw",
   "metadata": {
    "raw_mimetype": "text/restructuredtext"
   },
   "source": [
    "Time series are represented using a dictionary where each entry represents a univariate or multivariate time series. As an example, let's create a dictionary with two univariate time series:"
   ]
  },
  {
   "cell_type": "code",
   "execution_count": 1,
   "metadata": {
    "ExecuteTime": {
     "end_time": "2019-12-09T11:55:30.629106Z",
     "start_time": "2019-12-09T11:55:29.365104Z"
    }
   },
   "outputs": [],
   "source": [
    "import pandas as pd\n",
    "from tsfuse.data import Collection\n",
    "\n",
    "X = {\n",
    "    'x1': Collection(pd.DataFrame({\n",
    "        'id':   [0, 0, 0, 1, 1, 1, 2, 2, 2, 3, 3, 3, 4, 4, 4, 5, 5, 5],\n",
    "        'time': [0, 1, 2, 0, 1, 2, 0, 1, 2, 0, 1, 2, 0, 1, 2, 0, 1, 2],\n",
    "        'data': [1, 2, 3, 1, 2 ,3, 1, 2, 3, 3, 2, 1, 3, 2, 1, 3, 2, 1],\n",
    "    })),\n",
    "    'x2': Collection(pd.DataFrame({\n",
    "        'id':   [0, 0, 0, 1, 1, 1, 2, 2, 2, 3, 3, 3, 4, 4, 4, 5, 5, 5],\n",
    "        'time': [0, 1, 2, 0, 1, 2, 0, 1, 2, 0, 1, 2, 0, 1, 2, 0, 1, 2],\n",
    "        'data': [1, 2, 3, 1, 2 ,3, 1, 2, 3, 1, 2, 3, 1, 2 ,3, 1, 2, 3],\n",
    "    })),\n",
    "}"
   ]
  },
  {
   "cell_type": "raw",
   "metadata": {
    "raw_mimetype": "text/restructuredtext"
   },
   "source": [
    "The two univariate time series are named `x1` and `x2` and each series is represented as a :class:`~tsfuse.data.Collection` object. Each ``Collection`` is initialized with a DataFrame that has three columns:\n",
    "\n",
    "- `id` which is the identifier of each instance, i.e., each window,\n",
    "- `time` which contains the time stamps,\n",
    "- `data` contains the time series data itself.\n",
    "\n",
    "For multivariate time series data, there can be multiple columns similar to the `data` column. For example, the data of a tri-axial accelerometer would have three columns `x`, `y`, `z` instead of `data` as it simultaneously measures the `x`, `y`, `z` acceleration."
   ]
  },
  {
   "cell_type": "markdown",
   "metadata": {},
   "source": [
    "### Labels"
   ]
  },
  {
   "cell_type": "raw",
   "metadata": {
    "raw_mimetype": "text/restructuredtext"
   },
   "source": [
    "There should be one target value for each window, so we create a Series where the index contains all unique `id` values of the time series data and the data consists of the labels:"
   ]
  },
  {
   "cell_type": "code",
   "execution_count": 2,
   "metadata": {
    "ExecuteTime": {
     "end_time": "2019-12-09T11:55:30.634146Z",
     "start_time": "2019-12-09T11:55:30.631109Z"
    }
   },
   "outputs": [],
   "source": [
    "y = pd.Series(index=[0, 1, 2, 3, 4, 5], data=[0, 0, 0, 1, 1, 1])"
   ]
  },
  {
   "cell_type": "markdown",
   "metadata": {},
   "source": [
    "## Feature construction"
   ]
  },
  {
   "cell_type": "raw",
   "metadata": {
    "raw_mimetype": "text/restructuredtext"
   },
   "source": [
    "To construct features, TSFuse provides a :meth:`~tsfuse.construct` function which takes time series data `X` and target data `y` as input, and returns a DataFrame where each column corresponds to a feature. In addition, this function can return a computation graph which contains all transformation steps required to compute the features for new data:"
   ]
  },
  {
   "cell_type": "code",
   "execution_count": 3,
   "metadata": {
    "ExecuteTime": {
     "end_time": "2019-12-09T11:55:30.726204Z",
     "start_time": "2019-12-09T11:55:30.636771Z"
    }
   },
   "outputs": [],
   "source": [
    "from tsfuse import construct\n",
    "features, graph = construct(X, y, transformers='minimal', return_graph=True)"
   ]
  },
  {
   "cell_type": "raw",
   "metadata": {
    "raw_mimetype": "text/restructuredtext"
   },
   "source": [
    "The DataFrame with the constructed features looks like this:"
   ]
  },
  {
   "cell_type": "code",
   "execution_count": 4,
   "metadata": {
    "ExecuteTime": {
     "end_time": "2019-12-09T11:55:30.749748Z",
     "start_time": "2019-12-09T11:55:30.728227Z"
    }
   },
   "outputs": [
    {
     "data": {
      "text/html": [
       "<div>\n",
       "<style scoped>\n",
       "    .dataframe tbody tr th:only-of-type {\n",
       "        vertical-align: middle;\n",
       "    }\n",
       "\n",
       "    .dataframe tbody tr th {\n",
       "        vertical-align: top;\n",
       "    }\n",
       "\n",
       "    .dataframe thead th {\n",
       "        text-align: right;\n",
       "    }\n",
       "</style>\n",
       "<table border=\"1\" class=\"dataframe\">\n",
       "  <thead>\n",
       "    <tr style=\"text-align: right;\">\n",
       "      <th></th>\n",
       "      <th>Kurtosis(Ratio(Input(x1), Input(x2)))</th>\n",
       "      <th>Max(Ratio(Input(x1), Input(x2)))</th>\n",
       "      <th>Mean(Ratio(Input(x1), Input(x2)))</th>\n",
       "      <th>Min(Ratio(Input(x1), Input(x2)))</th>\n",
       "      <th>Skewness(Ratio(Input(x1), Input(x2)))</th>\n",
       "      <th>StandardDeviation(Ratio(Input(x1), Input(x2)))</th>\n",
       "      <th>Variance(Ratio(Input(x1), Input(x2)))</th>\n",
       "    </tr>\n",
       "  </thead>\n",
       "  <tbody>\n",
       "    <tr>\n",
       "      <th>0</th>\n",
       "      <td>NaN</td>\n",
       "      <td>1.0</td>\n",
       "      <td>1.000000</td>\n",
       "      <td>1.000000</td>\n",
       "      <td>NaN</td>\n",
       "      <td>0.000000</td>\n",
       "      <td>0.000000</td>\n",
       "    </tr>\n",
       "    <tr>\n",
       "      <th>1</th>\n",
       "      <td>NaN</td>\n",
       "      <td>1.0</td>\n",
       "      <td>1.000000</td>\n",
       "      <td>1.000000</td>\n",
       "      <td>NaN</td>\n",
       "      <td>0.000000</td>\n",
       "      <td>0.000000</td>\n",
       "    </tr>\n",
       "    <tr>\n",
       "      <th>2</th>\n",
       "      <td>NaN</td>\n",
       "      <td>1.0</td>\n",
       "      <td>1.000000</td>\n",
       "      <td>1.000000</td>\n",
       "      <td>NaN</td>\n",
       "      <td>0.000000</td>\n",
       "      <td>0.000000</td>\n",
       "    </tr>\n",
       "    <tr>\n",
       "      <th>3</th>\n",
       "      <td>-1.5</td>\n",
       "      <td>3.0</td>\n",
       "      <td>1.444444</td>\n",
       "      <td>0.333333</td>\n",
       "      <td>0.528005</td>\n",
       "      <td>1.133115</td>\n",
       "      <td>1.283951</td>\n",
       "    </tr>\n",
       "    <tr>\n",
       "      <th>4</th>\n",
       "      <td>-1.5</td>\n",
       "      <td>3.0</td>\n",
       "      <td>1.444444</td>\n",
       "      <td>0.333333</td>\n",
       "      <td>0.528005</td>\n",
       "      <td>1.133115</td>\n",
       "      <td>1.283951</td>\n",
       "    </tr>\n",
       "    <tr>\n",
       "      <th>5</th>\n",
       "      <td>-1.5</td>\n",
       "      <td>3.0</td>\n",
       "      <td>1.444444</td>\n",
       "      <td>0.333333</td>\n",
       "      <td>0.528005</td>\n",
       "      <td>1.133115</td>\n",
       "      <td>1.283951</td>\n",
       "    </tr>\n",
       "  </tbody>\n",
       "</table>\n",
       "</div>"
      ],
      "text/plain": [
       "   Kurtosis(Ratio(Input(x1), Input(x2)))  Max(Ratio(Input(x1), Input(x2)))  \\\n",
       "0                                    NaN                               1.0   \n",
       "1                                    NaN                               1.0   \n",
       "2                                    NaN                               1.0   \n",
       "3                                   -1.5                               3.0   \n",
       "4                                   -1.5                               3.0   \n",
       "5                                   -1.5                               3.0   \n",
       "\n",
       "   Mean(Ratio(Input(x1), Input(x2)))  Min(Ratio(Input(x1), Input(x2)))  \\\n",
       "0                           1.000000                          1.000000   \n",
       "1                           1.000000                          1.000000   \n",
       "2                           1.000000                          1.000000   \n",
       "3                           1.444444                          0.333333   \n",
       "4                           1.444444                          0.333333   \n",
       "5                           1.444444                          0.333333   \n",
       "\n",
       "   Skewness(Ratio(Input(x1), Input(x2)))  \\\n",
       "0                                    NaN   \n",
       "1                                    NaN   \n",
       "2                                    NaN   \n",
       "3                               0.528005   \n",
       "4                               0.528005   \n",
       "5                               0.528005   \n",
       "\n",
       "   StandardDeviation(Ratio(Input(x1), Input(x2)))  \\\n",
       "0                                        0.000000   \n",
       "1                                        0.000000   \n",
       "2                                        0.000000   \n",
       "3                                        1.133115   \n",
       "4                                        1.133115   \n",
       "5                                        1.133115   \n",
       "\n",
       "   Variance(Ratio(Input(x1), Input(x2)))  \n",
       "0                               0.000000  \n",
       "1                               0.000000  \n",
       "2                               0.000000  \n",
       "3                               1.283951  \n",
       "4                               1.283951  \n",
       "5                               1.283951  "
      ]
     },
     "execution_count": 4,
     "metadata": {},
     "output_type": "execute_result"
    }
   ],
   "source": [
    "features"
   ]
  },
  {
   "cell_type": "raw",
   "metadata": {
    "raw_mimetype": "text/restructuredtext"
   },
   "source": [
    "And this is the corresponding computation graph:"
   ]
  },
  {
   "cell_type": "code",
   "execution_count": 5,
   "metadata": {
    "ExecuteTime": {
     "end_time": "2019-12-09T11:55:30.797028Z",
     "start_time": "2019-12-09T11:55:30.751377Z"
    }
   },
   "outputs": [
    {
     "data": {
      "image/svg+xml": [
       "<?xml version=\"1.0\" encoding=\"UTF-8\" standalone=\"no\"?>\n",
       "<!DOCTYPE svg PUBLIC \"-//W3C//DTD SVG 1.1//EN\"\n",
       " \"http://www.w3.org/Graphics/SVG/1.1/DTD/svg11.dtd\">\n",
       "<!-- Generated by graphviz version 2.40.1 (20161225.0304)\n",
       " -->\n",
       "<!-- Title: %3 Pages: 1 -->\n",
       "<svg width=\"689pt\" height=\"188pt\"\n",
       " viewBox=\"0.00 0.00 689.08 188.00\" xmlns=\"http://www.w3.org/2000/svg\" xmlns:xlink=\"http://www.w3.org/1999/xlink\">\n",
       "<g id=\"graph0\" class=\"graph\" transform=\"scale(1 1) rotate(0) translate(4 184)\">\n",
       "<title>%3</title>\n",
       "<polygon fill=\"#ffffff\" stroke=\"transparent\" points=\"-4,4 -4,-184 685.0787,-184 685.0787,4 -4,4\"/>\n",
       "<!-- (&#39;Input&#39;, &#39;x1&#39;) -->\n",
       "<g id=\"node1\" class=\"node\">\n",
       "<title>(&#39;Input&#39;, &#39;x1&#39;)</title>\n",
       "<ellipse fill=\"none\" stroke=\"#000000\" cx=\"263\" cy=\"-162\" rx=\"27\" ry=\"18\"/>\n",
       "<text text-anchor=\"middle\" x=\"263\" y=\"-157.8\" font-family=\"Times,serif\" font-size=\"14.00\" fill=\"#000000\">x1</text>\n",
       "</g>\n",
       "<!-- (&#39;Ratio&#39;, (), ((&#39;Input&#39;, &#39;x1&#39;), (&#39;Input&#39;, &#39;x2&#39;))) -->\n",
       "<g id=\"node3\" class=\"node\">\n",
       "<title>(&#39;Ratio&#39;, (), ((&#39;Input&#39;, &#39;x1&#39;), (&#39;Input&#39;, &#39;x2&#39;)))</title>\n",
       "<ellipse fill=\"none\" stroke=\"#000000\" cx=\"299\" cy=\"-90\" rx=\"29.0343\" ry=\"18\"/>\n",
       "<text text-anchor=\"middle\" x=\"299\" y=\"-85.8\" font-family=\"Times,serif\" font-size=\"14.00\" fill=\"#000000\">Ratio</text>\n",
       "</g>\n",
       "<!-- (&#39;Input&#39;, &#39;x1&#39;)&#45;&gt;(&#39;Ratio&#39;, (), ((&#39;Input&#39;, &#39;x1&#39;), (&#39;Input&#39;, &#39;x2&#39;))) -->\n",
       "<g id=\"edge1\" class=\"edge\">\n",
       "<title>(&#39;Input&#39;, &#39;x1&#39;)&#45;&gt;(&#39;Ratio&#39;, (), ((&#39;Input&#39;, &#39;x1&#39;), (&#39;Input&#39;, &#39;x2&#39;)))</title>\n",
       "<path fill=\"none\" stroke=\"#000000\" d=\"M271.7146,-144.5708C275.9597,-136.0807 281.1536,-125.6929 285.8663,-116.2674\"/>\n",
       "<polygon fill=\"#000000\" stroke=\"#000000\" points=\"289.024,-117.7782 290.3657,-107.2687 282.763,-114.6477 289.024,-117.7782\"/>\n",
       "</g>\n",
       "<!-- (&#39;Input&#39;, &#39;x2&#39;) -->\n",
       "<g id=\"node2\" class=\"node\">\n",
       "<title>(&#39;Input&#39;, &#39;x2&#39;)</title>\n",
       "<ellipse fill=\"none\" stroke=\"#000000\" cx=\"335\" cy=\"-162\" rx=\"27\" ry=\"18\"/>\n",
       "<text text-anchor=\"middle\" x=\"335\" y=\"-157.8\" font-family=\"Times,serif\" font-size=\"14.00\" fill=\"#000000\">x2</text>\n",
       "</g>\n",
       "<!-- (&#39;Input&#39;, &#39;x2&#39;)&#45;&gt;(&#39;Ratio&#39;, (), ((&#39;Input&#39;, &#39;x1&#39;), (&#39;Input&#39;, &#39;x2&#39;))) -->\n",
       "<g id=\"edge2\" class=\"edge\">\n",
       "<title>(&#39;Input&#39;, &#39;x2&#39;)&#45;&gt;(&#39;Ratio&#39;, (), ((&#39;Input&#39;, &#39;x1&#39;), (&#39;Input&#39;, &#39;x2&#39;)))</title>\n",
       "<path fill=\"none\" stroke=\"#000000\" d=\"M326.2854,-144.5708C322.0403,-136.0807 316.8464,-125.6929 312.1337,-116.2674\"/>\n",
       "<polygon fill=\"#000000\" stroke=\"#000000\" points=\"315.237,-114.6477 307.6343,-107.2687 308.976,-117.7782 315.237,-114.6477\"/>\n",
       "</g>\n",
       "<!-- (&#39;Min&#39;, (None,), ((&#39;Ratio&#39;, (), ((&#39;Input&#39;, &#39;x1&#39;), (&#39;Input&#39;, &#39;x2&#39;))),)) -->\n",
       "<g id=\"node4\" class=\"node\">\n",
       "<title>(&#39;Min&#39;, (None,), ((&#39;Ratio&#39;, (), ((&#39;Input&#39;, &#39;x1&#39;), (&#39;Input&#39;, &#39;x2&#39;))),))</title>\n",
       "<ellipse fill=\"none\" stroke=\"#000000\" cx=\"27\" cy=\"-18\" rx=\"27\" ry=\"18\"/>\n",
       "<text text-anchor=\"middle\" x=\"27\" y=\"-13.8\" font-family=\"Times,serif\" font-size=\"14.00\" fill=\"#000000\">Min</text>\n",
       "</g>\n",
       "<!-- (&#39;Ratio&#39;, (), ((&#39;Input&#39;, &#39;x1&#39;), (&#39;Input&#39;, &#39;x2&#39;)))&#45;&gt;(&#39;Min&#39;, (None,), ((&#39;Ratio&#39;, (), ((&#39;Input&#39;, &#39;x1&#39;), (&#39;Input&#39;, &#39;x2&#39;))),)) -->\n",
       "<g id=\"edge3\" class=\"edge\">\n",
       "<title>(&#39;Ratio&#39;, (), ((&#39;Input&#39;, &#39;x1&#39;), (&#39;Input&#39;, &#39;x2&#39;)))&#45;&gt;(&#39;Min&#39;, (None,), ((&#39;Ratio&#39;, (), ((&#39;Input&#39;, &#39;x1&#39;), (&#39;Input&#39;, &#39;x2&#39;))),))</title>\n",
       "<path fill=\"none\" stroke=\"#000000\" d=\"M270.4052,-85.7239C225.3778,-78.4903 135.6008,-62.0329 63,-36 61.1254,-35.3278 59.222,-34.5822 57.3194,-33.7878\"/>\n",
       "<polygon fill=\"#000000\" stroke=\"#000000\" points=\"58.5026,-30.4809 47.951,-29.5241 55.6029,-36.8521 58.5026,-30.4809\"/>\n",
       "</g>\n",
       "<!-- (&#39;Max&#39;, (None,), ((&#39;Ratio&#39;, (), ((&#39;Input&#39;, &#39;x1&#39;), (&#39;Input&#39;, &#39;x2&#39;))),)) -->\n",
       "<g id=\"node5\" class=\"node\">\n",
       "<title>(&#39;Max&#39;, (None,), ((&#39;Ratio&#39;, (), ((&#39;Input&#39;, &#39;x1&#39;), (&#39;Input&#39;, &#39;x2&#39;))),))</title>\n",
       "<ellipse fill=\"none\" stroke=\"#000000\" cx=\"99\" cy=\"-18\" rx=\"27\" ry=\"18\"/>\n",
       "<text text-anchor=\"middle\" x=\"99\" y=\"-13.8\" font-family=\"Times,serif\" font-size=\"14.00\" fill=\"#000000\">Max</text>\n",
       "</g>\n",
       "<!-- (&#39;Ratio&#39;, (), ((&#39;Input&#39;, &#39;x1&#39;), (&#39;Input&#39;, &#39;x2&#39;)))&#45;&gt;(&#39;Max&#39;, (None,), ((&#39;Ratio&#39;, (), ((&#39;Input&#39;, &#39;x1&#39;), (&#39;Input&#39;, &#39;x2&#39;))),)) -->\n",
       "<g id=\"edge4\" class=\"edge\">\n",
       "<title>(&#39;Ratio&#39;, (), ((&#39;Input&#39;, &#39;x1&#39;), (&#39;Input&#39;, &#39;x2&#39;)))&#45;&gt;(&#39;Max&#39;, (None,), ((&#39;Ratio&#39;, (), ((&#39;Input&#39;, &#39;x1&#39;), (&#39;Input&#39;, &#39;x2&#39;))),))</title>\n",
       "<path fill=\"none\" stroke=\"#000000\" d=\"M272.1521,-82.4692C239.311,-72.9599 182.2543,-55.4721 135,-36 133.2072,-35.2612 131.38,-34.4711 129.547,-33.6495\"/>\n",
       "<polygon fill=\"#000000\" stroke=\"#000000\" points=\"131.0035,-30.4667 120.4656,-29.3702 128.0197,-36.799 131.0035,-30.4667\"/>\n",
       "</g>\n",
       "<!-- (&#39;Mean&#39;, (None,), ((&#39;Ratio&#39;, (), ((&#39;Input&#39;, &#39;x1&#39;), (&#39;Input&#39;, &#39;x2&#39;))),)) -->\n",
       "<g id=\"node6\" class=\"node\">\n",
       "<title>(&#39;Mean&#39;, (None,), ((&#39;Ratio&#39;, (), ((&#39;Input&#39;, &#39;x1&#39;), (&#39;Input&#39;, &#39;x2&#39;))),))</title>\n",
       "<ellipse fill=\"none\" stroke=\"#000000\" cx=\"174\" cy=\"-18\" rx=\"30.4862\" ry=\"18\"/>\n",
       "<text text-anchor=\"middle\" x=\"174\" y=\"-13.8\" font-family=\"Times,serif\" font-size=\"14.00\" fill=\"#000000\">Mean</text>\n",
       "</g>\n",
       "<!-- (&#39;Ratio&#39;, (), ((&#39;Input&#39;, &#39;x1&#39;), (&#39;Input&#39;, &#39;x2&#39;)))&#45;&gt;(&#39;Mean&#39;, (None,), ((&#39;Ratio&#39;, (), ((&#39;Input&#39;, &#39;x1&#39;), (&#39;Input&#39;, &#39;x2&#39;))),)) -->\n",
       "<g id=\"edge5\" class=\"edge\">\n",
       "<title>(&#39;Ratio&#39;, (), ((&#39;Input&#39;, &#39;x1&#39;), (&#39;Input&#39;, &#39;x2&#39;)))&#45;&gt;(&#39;Mean&#39;, (None,), ((&#39;Ratio&#39;, (), ((&#39;Input&#39;, &#39;x1&#39;), (&#39;Input&#39;, &#39;x2&#39;))),))</title>\n",
       "<path fill=\"none\" stroke=\"#000000\" d=\"M277.5117,-77.6228C257.5114,-66.1026 227.4793,-48.8041 204.9068,-35.8023\"/>\n",
       "<polygon fill=\"#000000\" stroke=\"#000000\" points=\"206.4597,-32.6577 196.0474,-30.6993 202.9658,-38.7234 206.4597,-32.6577\"/>\n",
       "</g>\n",
       "<!-- (&#39;StandardDeviation&#39;, (None,), ((&#39;Ratio&#39;, (), ((&#39;Input&#39;, &#39;x1&#39;), (&#39;Input&#39;, &#39;x2&#39;))),)) -->\n",
       "<g id=\"node7\" class=\"node\">\n",
       "<title>(&#39;StandardDeviation&#39;, (None,), ((&#39;Ratio&#39;, (), ((&#39;Input&#39;, &#39;x1&#39;), (&#39;Input&#39;, &#39;x2&#39;))),))</title>\n",
       "<ellipse fill=\"none\" stroke=\"#000000\" cx=\"299\" cy=\"-18\" rx=\"76.3312\" ry=\"18\"/>\n",
       "<text text-anchor=\"middle\" x=\"299\" y=\"-13.8\" font-family=\"Times,serif\" font-size=\"14.00\" fill=\"#000000\">StandardDeviation</text>\n",
       "</g>\n",
       "<!-- (&#39;Ratio&#39;, (), ((&#39;Input&#39;, &#39;x1&#39;), (&#39;Input&#39;, &#39;x2&#39;)))&#45;&gt;(&#39;StandardDeviation&#39;, (None,), ((&#39;Ratio&#39;, (), ((&#39;Input&#39;, &#39;x1&#39;), (&#39;Input&#39;, &#39;x2&#39;))),)) -->\n",
       "<g id=\"edge6\" class=\"edge\">\n",
       "<title>(&#39;Ratio&#39;, (), ((&#39;Input&#39;, &#39;x1&#39;), (&#39;Input&#39;, &#39;x2&#39;)))&#45;&gt;(&#39;StandardDeviation&#39;, (None,), ((&#39;Ratio&#39;, (), ((&#39;Input&#39;, &#39;x1&#39;), (&#39;Input&#39;, &#39;x2&#39;))),))</title>\n",
       "<path fill=\"none\" stroke=\"#000000\" d=\"M299,-71.8314C299,-64.131 299,-54.9743 299,-46.4166\"/>\n",
       "<polygon fill=\"#000000\" stroke=\"#000000\" points=\"302.5001,-46.4132 299,-36.4133 295.5001,-46.4133 302.5001,-46.4132\"/>\n",
       "</g>\n",
       "<!-- (&#39;Variance&#39;, (None,), ((&#39;Ratio&#39;, (), ((&#39;Input&#39;, &#39;x1&#39;), (&#39;Input&#39;, &#39;x2&#39;))),)) -->\n",
       "<g id=\"node8\" class=\"node\">\n",
       "<title>(&#39;Variance&#39;, (None,), ((&#39;Ratio&#39;, (), ((&#39;Input&#39;, &#39;x1&#39;), (&#39;Input&#39;, &#39;x2&#39;))),))</title>\n",
       "<ellipse fill=\"none\" stroke=\"#000000\" cx=\"434\" cy=\"-18\" rx=\"41.0748\" ry=\"18\"/>\n",
       "<text text-anchor=\"middle\" x=\"434\" y=\"-13.8\" font-family=\"Times,serif\" font-size=\"14.00\" fill=\"#000000\">Variance</text>\n",
       "</g>\n",
       "<!-- (&#39;Ratio&#39;, (), ((&#39;Input&#39;, &#39;x1&#39;), (&#39;Input&#39;, &#39;x2&#39;)))&#45;&gt;(&#39;Variance&#39;, (None,), ((&#39;Ratio&#39;, (), ((&#39;Input&#39;, &#39;x1&#39;), (&#39;Input&#39;, &#39;x2&#39;))),)) -->\n",
       "<g id=\"edge7\" class=\"edge\">\n",
       "<title>(&#39;Ratio&#39;, (), ((&#39;Input&#39;, &#39;x1&#39;), (&#39;Input&#39;, &#39;x2&#39;)))&#45;&gt;(&#39;Variance&#39;, (None,), ((&#39;Ratio&#39;, (), ((&#39;Input&#39;, &#39;x1&#39;), (&#39;Input&#39;, &#39;x2&#39;))),))</title>\n",
       "<path fill=\"none\" stroke=\"#000000\" d=\"M321.2925,-78.1107C342.277,-66.9189 374.0496,-49.9735 398.5174,-36.9241\"/>\n",
       "<polygon fill=\"#000000\" stroke=\"#000000\" points=\"400.323,-39.9278 407.4995,-32.1336 397.0289,-33.7513 400.323,-39.9278\"/>\n",
       "</g>\n",
       "<!-- (&#39;Skewness&#39;, (None,), ((&#39;Ratio&#39;, (), ((&#39;Input&#39;, &#39;x1&#39;), (&#39;Input&#39;, &#39;x2&#39;))),)) -->\n",
       "<g id=\"node9\" class=\"node\">\n",
       "<title>(&#39;Skewness&#39;, (None,), ((&#39;Ratio&#39;, (), ((&#39;Input&#39;, &#39;x1&#39;), (&#39;Input&#39;, &#39;x2&#39;))),))</title>\n",
       "<ellipse fill=\"none\" stroke=\"#000000\" cx=\"538\" cy=\"-18\" rx=\"44.9768\" ry=\"18\"/>\n",
       "<text text-anchor=\"middle\" x=\"538\" y=\"-13.8\" font-family=\"Times,serif\" font-size=\"14.00\" fill=\"#000000\">Skewness</text>\n",
       "</g>\n",
       "<!-- (&#39;Ratio&#39;, (), ((&#39;Input&#39;, &#39;x1&#39;), (&#39;Input&#39;, &#39;x2&#39;)))&#45;&gt;(&#39;Skewness&#39;, (None,), ((&#39;Ratio&#39;, (), ((&#39;Input&#39;, &#39;x1&#39;), (&#39;Input&#39;, &#39;x2&#39;))),)) -->\n",
       "<g id=\"edge8\" class=\"edge\">\n",
       "<title>(&#39;Ratio&#39;, (), ((&#39;Input&#39;, &#39;x1&#39;), (&#39;Input&#39;, &#39;x2&#39;)))&#45;&gt;(&#39;Skewness&#39;, (None,), ((&#39;Ratio&#39;, (), ((&#39;Input&#39;, &#39;x1&#39;), (&#39;Input&#39;, &#39;x2&#39;))),))</title>\n",
       "<path fill=\"none\" stroke=\"#000000\" d=\"M325.7485,-82.5348C361.8066,-72.3933 427.9534,-53.514 484,-36 487.1598,-35.0126 490.4174,-33.9754 493.6929,-32.9183\"/>\n",
       "<polygon fill=\"#000000\" stroke=\"#000000\" points=\"495.0748,-36.149 503.4941,-29.7173 492.9016,-29.4948 495.0748,-36.149\"/>\n",
       "</g>\n",
       "<!-- (&#39;Kurtosis&#39;, (None,), ((&#39;Ratio&#39;, (), ((&#39;Input&#39;, &#39;x1&#39;), (&#39;Input&#39;, &#39;x2&#39;))),)) -->\n",
       "<g id=\"node10\" class=\"node\">\n",
       "<title>(&#39;Kurtosis&#39;, (None,), ((&#39;Ratio&#39;, (), ((&#39;Input&#39;, &#39;x1&#39;), (&#39;Input&#39;, &#39;x2&#39;))),))</title>\n",
       "<ellipse fill=\"none\" stroke=\"#000000\" cx=\"641\" cy=\"-18\" rx=\"40.1576\" ry=\"18\"/>\n",
       "<text text-anchor=\"middle\" x=\"641\" y=\"-13.8\" font-family=\"Times,serif\" font-size=\"14.00\" fill=\"#000000\">Kurtosis</text>\n",
       "</g>\n",
       "<!-- (&#39;Ratio&#39;, (), ((&#39;Input&#39;, &#39;x1&#39;), (&#39;Input&#39;, &#39;x2&#39;)))&#45;&gt;(&#39;Kurtosis&#39;, (None,), ((&#39;Ratio&#39;, (), ((&#39;Input&#39;, &#39;x1&#39;), (&#39;Input&#39;, &#39;x2&#39;))),)) -->\n",
       "<g id=\"edge9\" class=\"edge\">\n",
       "<title>(&#39;Ratio&#39;, (), ((&#39;Input&#39;, &#39;x1&#39;), (&#39;Input&#39;, &#39;x2&#39;)))&#45;&gt;(&#39;Kurtosis&#39;, (None,), ((&#39;Ratio&#39;, (), ((&#39;Input&#39;, &#39;x1&#39;), (&#39;Input&#39;, &#39;x2&#39;))),))</title>\n",
       "<path fill=\"none\" stroke=\"#000000\" d=\"M328.0625,-86.3123C381.1187,-79.213 496.9597,-62.0118 592,-36 595.0062,-35.1772 598.089,-34.2507 601.1735,-33.2631\"/>\n",
       "<polygon fill=\"#000000\" stroke=\"#000000\" points=\"602.5925,-36.4778 610.9399,-29.9531 600.3456,-29.8482 602.5925,-36.4778\"/>\n",
       "</g>\n",
       "</g>\n",
       "</svg>\n"
      ],
      "text/plain": [
       "<tsfuse.computation.graph.Graph at 0x7f988b7649a0>"
      ]
     },
     "execution_count": 5,
     "metadata": {},
     "output_type": "execute_result"
    }
   ],
   "source": [
    "graph"
   ]
  },
  {
   "cell_type": "raw",
   "metadata": {
    "raw_mimetype": "text/restructuredtext"
   },
   "source": [
    "The :class:`tsfuse.transformers.statistics.SinglePassStatistics` transformer computes eight simple statistical features (length, sum, min, max, mean, variance, skewness, kurtosis) at once, i.e., using only a single pass over the time series data. Each :class:`tsfuse.transformers.queries.Slice` transformer selects one of these features."
   ]
  },
  {
   "cell_type": "raw",
   "metadata": {
    "raw_mimetype": "text/restructuredtext"
   },
   "source": [
    "To apply this computation graph, simply call :func:`~tsfuse.computation.Graph.transform` with a time series dictionary ``X`` as argument:"
   ]
  },
  {
   "cell_type": "code",
   "execution_count": 6,
   "metadata": {
    "ExecuteTime": {
     "end_time": "2019-12-09T11:55:30.829811Z",
     "start_time": "2019-12-09T11:55:30.799057Z"
    }
   },
   "outputs": [
    {
     "data": {
      "text/html": [
       "<div>\n",
       "<style scoped>\n",
       "    .dataframe tbody tr th:only-of-type {\n",
       "        vertical-align: middle;\n",
       "    }\n",
       "\n",
       "    .dataframe tbody tr th {\n",
       "        vertical-align: top;\n",
       "    }\n",
       "\n",
       "    .dataframe thead th {\n",
       "        text-align: right;\n",
       "    }\n",
       "</style>\n",
       "<table border=\"1\" class=\"dataframe\">\n",
       "  <thead>\n",
       "    <tr style=\"text-align: right;\">\n",
       "      <th></th>\n",
       "      <th>Kurtosis(Ratio(Input(x1), Input(x2)))</th>\n",
       "      <th>Max(Ratio(Input(x1), Input(x2)))</th>\n",
       "      <th>Mean(Ratio(Input(x1), Input(x2)))</th>\n",
       "      <th>Min(Ratio(Input(x1), Input(x2)))</th>\n",
       "      <th>Skewness(Ratio(Input(x1), Input(x2)))</th>\n",
       "      <th>StandardDeviation(Ratio(Input(x1), Input(x2)))</th>\n",
       "    </tr>\n",
       "  </thead>\n",
       "  <tbody>\n",
       "    <tr>\n",
       "      <th>0</th>\n",
       "      <td>NaN</td>\n",
       "      <td>1.0</td>\n",
       "      <td>1.000000</td>\n",
       "      <td>1.000000</td>\n",
       "      <td>NaN</td>\n",
       "      <td>0.000000</td>\n",
       "    </tr>\n",
       "    <tr>\n",
       "      <th>1</th>\n",
       "      <td>NaN</td>\n",
       "      <td>1.0</td>\n",
       "      <td>1.000000</td>\n",
       "      <td>1.000000</td>\n",
       "      <td>NaN</td>\n",
       "      <td>0.000000</td>\n",
       "    </tr>\n",
       "    <tr>\n",
       "      <th>2</th>\n",
       "      <td>NaN</td>\n",
       "      <td>1.0</td>\n",
       "      <td>1.000000</td>\n",
       "      <td>1.000000</td>\n",
       "      <td>NaN</td>\n",
       "      <td>0.000000</td>\n",
       "    </tr>\n",
       "    <tr>\n",
       "      <th>3</th>\n",
       "      <td>-1.5</td>\n",
       "      <td>3.0</td>\n",
       "      <td>1.444444</td>\n",
       "      <td>0.333333</td>\n",
       "      <td>0.528005</td>\n",
       "      <td>1.133115</td>\n",
       "    </tr>\n",
       "    <tr>\n",
       "      <th>4</th>\n",
       "      <td>-1.5</td>\n",
       "      <td>3.0</td>\n",
       "      <td>1.444444</td>\n",
       "      <td>0.333333</td>\n",
       "      <td>0.528005</td>\n",
       "      <td>1.133115</td>\n",
       "    </tr>\n",
       "    <tr>\n",
       "      <th>5</th>\n",
       "      <td>-1.5</td>\n",
       "      <td>3.0</td>\n",
       "      <td>1.444444</td>\n",
       "      <td>0.333333</td>\n",
       "      <td>0.528005</td>\n",
       "      <td>1.133115</td>\n",
       "    </tr>\n",
       "  </tbody>\n",
       "</table>\n",
       "</div>"
      ],
      "text/plain": [
       "   Kurtosis(Ratio(Input(x1), Input(x2)))  Max(Ratio(Input(x1), Input(x2)))  \\\n",
       "0                                    NaN                               1.0   \n",
       "1                                    NaN                               1.0   \n",
       "2                                    NaN                               1.0   \n",
       "3                                   -1.5                               3.0   \n",
       "4                                   -1.5                               3.0   \n",
       "5                                   -1.5                               3.0   \n",
       "\n",
       "   Mean(Ratio(Input(x1), Input(x2)))  Min(Ratio(Input(x1), Input(x2)))  \\\n",
       "0                           1.000000                          1.000000   \n",
       "1                           1.000000                          1.000000   \n",
       "2                           1.000000                          1.000000   \n",
       "3                           1.444444                          0.333333   \n",
       "4                           1.444444                          0.333333   \n",
       "5                           1.444444                          0.333333   \n",
       "\n",
       "   Skewness(Ratio(Input(x1), Input(x2)))  \\\n",
       "0                                    NaN   \n",
       "1                                    NaN   \n",
       "2                                    NaN   \n",
       "3                               0.528005   \n",
       "4                               0.528005   \n",
       "5                               0.528005   \n",
       "\n",
       "   StandardDeviation(Ratio(Input(x1), Input(x2)))  \n",
       "0                                        0.000000  \n",
       "1                                        0.000000  \n",
       "2                                        0.000000  \n",
       "3                                        1.133115  \n",
       "4                                        1.133115  \n",
       "5                                        1.133115  "
      ]
     },
     "execution_count": 6,
     "metadata": {},
     "output_type": "execute_result"
    }
   ],
   "source": [
    "graph.transform(X)"
   ]
  },
  {
   "cell_type": "markdown",
   "metadata": {},
   "source": [
    "## Feature computation"
   ]
  },
  {
   "cell_type": "raw",
   "metadata": {
    "raw_mimetype": "text/restructuredtext"
   },
   "source": [
    "Instead of automatically generating a computation graph using the :meth:`~tsfuse.construct` function, it is also possible to define a custom computation graph. To build such a graph, create a :class:`~tsfuse.computation.Graph` object as follows:"
   ]
  },
  {
   "cell_type": "code",
   "execution_count": 7,
   "metadata": {
    "ExecuteTime": {
     "end_time": "2019-12-09T11:55:30.834258Z",
     "start_time": "2019-12-09T11:55:30.831426Z"
    }
   },
   "outputs": [],
   "source": [
    "from tsfuse.computation import Graph\n",
    "graph = Graph()"
   ]
  },
  {
   "cell_type": "raw",
   "metadata": {
    "raw_mimetype": "text/restructuredtext"
   },
   "source": [
    "First, the graph needs placeholders for the input data. These can be created by adding :class:`~tsfuse.computation.Input` nodes to the graph:"
   ]
  },
  {
   "cell_type": "code",
   "execution_count": 8,
   "metadata": {
    "ExecuteTime": {
     "end_time": "2019-12-09T11:55:30.839909Z",
     "start_time": "2019-12-09T11:55:30.836935Z"
    }
   },
   "outputs": [],
   "source": [
    "from tsfuse.computation import Input\n",
    "input1 = graph.add_node(Input('x1'))\n",
    "input2 = graph.add_node(Input('x2'))"
   ]
  },
  {
   "cell_type": "raw",
   "metadata": {
    "raw_mimetype": "text/restructuredtext"
   },
   "source": [
    "Then, add transformer nodes to create new data from the input data. Each transformer has one or more parent nodes which are used as input data. For example, we can define the features of cell [4] as follows:"
   ]
  },
  {
   "cell_type": "code",
   "execution_count": 9,
   "metadata": {
    "ExecuteTime": {
     "end_time": "2019-12-09T11:55:30.890413Z",
     "start_time": "2019-12-09T11:55:30.841516Z"
    }
   },
   "outputs": [
    {
     "data": {
      "image/svg+xml": [
       "<?xml version=\"1.0\" encoding=\"UTF-8\" standalone=\"no\"?>\n",
       "<!DOCTYPE svg PUBLIC \"-//W3C//DTD SVG 1.1//EN\"\n",
       " \"http://www.w3.org/Graphics/SVG/1.1/DTD/svg11.dtd\">\n",
       "<!-- Generated by graphviz version 2.40.1 (20161225.0304)\n",
       " -->\n",
       "<!-- Title: %3 Pages: 1 -->\n",
       "<svg width=\"689pt\" height=\"188pt\"\n",
       " viewBox=\"0.00 0.00 689.08 188.00\" xmlns=\"http://www.w3.org/2000/svg\" xmlns:xlink=\"http://www.w3.org/1999/xlink\">\n",
       "<g id=\"graph0\" class=\"graph\" transform=\"scale(1 1) rotate(0) translate(4 184)\">\n",
       "<title>%3</title>\n",
       "<polygon fill=\"#ffffff\" stroke=\"transparent\" points=\"-4,4 -4,-184 685.0787,-184 685.0787,4 -4,4\"/>\n",
       "<!-- (&#39;Input&#39;, &#39;x1&#39;) -->\n",
       "<g id=\"node1\" class=\"node\">\n",
       "<title>(&#39;Input&#39;, &#39;x1&#39;)</title>\n",
       "<ellipse fill=\"none\" stroke=\"#000000\" cx=\"263\" cy=\"-162\" rx=\"27\" ry=\"18\"/>\n",
       "<text text-anchor=\"middle\" x=\"263\" y=\"-157.8\" font-family=\"Times,serif\" font-size=\"14.00\" fill=\"#000000\">x1</text>\n",
       "</g>\n",
       "<!-- (&#39;Ratio&#39;, (), ((&#39;Input&#39;, &#39;x1&#39;), (&#39;Input&#39;, &#39;x2&#39;))) -->\n",
       "<g id=\"node3\" class=\"node\">\n",
       "<title>(&#39;Ratio&#39;, (), ((&#39;Input&#39;, &#39;x1&#39;), (&#39;Input&#39;, &#39;x2&#39;)))</title>\n",
       "<ellipse fill=\"none\" stroke=\"#000000\" cx=\"299\" cy=\"-90\" rx=\"29.0343\" ry=\"18\"/>\n",
       "<text text-anchor=\"middle\" x=\"299\" y=\"-85.8\" font-family=\"Times,serif\" font-size=\"14.00\" fill=\"#000000\">Ratio</text>\n",
       "</g>\n",
       "<!-- (&#39;Input&#39;, &#39;x1&#39;)&#45;&gt;(&#39;Ratio&#39;, (), ((&#39;Input&#39;, &#39;x1&#39;), (&#39;Input&#39;, &#39;x2&#39;))) -->\n",
       "<g id=\"edge1\" class=\"edge\">\n",
       "<title>(&#39;Input&#39;, &#39;x1&#39;)&#45;&gt;(&#39;Ratio&#39;, (), ((&#39;Input&#39;, &#39;x1&#39;), (&#39;Input&#39;, &#39;x2&#39;)))</title>\n",
       "<path fill=\"none\" stroke=\"#000000\" d=\"M271.7146,-144.5708C275.9597,-136.0807 281.1536,-125.6929 285.8663,-116.2674\"/>\n",
       "<polygon fill=\"#000000\" stroke=\"#000000\" points=\"289.024,-117.7782 290.3657,-107.2687 282.763,-114.6477 289.024,-117.7782\"/>\n",
       "</g>\n",
       "<!-- (&#39;Input&#39;, &#39;x2&#39;) -->\n",
       "<g id=\"node2\" class=\"node\">\n",
       "<title>(&#39;Input&#39;, &#39;x2&#39;)</title>\n",
       "<ellipse fill=\"none\" stroke=\"#000000\" cx=\"335\" cy=\"-162\" rx=\"27\" ry=\"18\"/>\n",
       "<text text-anchor=\"middle\" x=\"335\" y=\"-157.8\" font-family=\"Times,serif\" font-size=\"14.00\" fill=\"#000000\">x2</text>\n",
       "</g>\n",
       "<!-- (&#39;Input&#39;, &#39;x2&#39;)&#45;&gt;(&#39;Ratio&#39;, (), ((&#39;Input&#39;, &#39;x1&#39;), (&#39;Input&#39;, &#39;x2&#39;))) -->\n",
       "<g id=\"edge2\" class=\"edge\">\n",
       "<title>(&#39;Input&#39;, &#39;x2&#39;)&#45;&gt;(&#39;Ratio&#39;, (), ((&#39;Input&#39;, &#39;x1&#39;), (&#39;Input&#39;, &#39;x2&#39;)))</title>\n",
       "<path fill=\"none\" stroke=\"#000000\" d=\"M326.2854,-144.5708C322.0403,-136.0807 316.8464,-125.6929 312.1337,-116.2674\"/>\n",
       "<polygon fill=\"#000000\" stroke=\"#000000\" points=\"315.237,-114.6477 307.6343,-107.2687 308.976,-117.7782 315.237,-114.6477\"/>\n",
       "</g>\n",
       "<!-- (&#39;Min&#39;, (None,), ((&#39;Ratio&#39;, (), ((&#39;Input&#39;, &#39;x1&#39;), (&#39;Input&#39;, &#39;x2&#39;))),)) -->\n",
       "<g id=\"node4\" class=\"node\">\n",
       "<title>(&#39;Min&#39;, (None,), ((&#39;Ratio&#39;, (), ((&#39;Input&#39;, &#39;x1&#39;), (&#39;Input&#39;, &#39;x2&#39;))),))</title>\n",
       "<ellipse fill=\"none\" stroke=\"#000000\" cx=\"27\" cy=\"-18\" rx=\"27\" ry=\"18\"/>\n",
       "<text text-anchor=\"middle\" x=\"27\" y=\"-13.8\" font-family=\"Times,serif\" font-size=\"14.00\" fill=\"#000000\">Min</text>\n",
       "</g>\n",
       "<!-- (&#39;Ratio&#39;, (), ((&#39;Input&#39;, &#39;x1&#39;), (&#39;Input&#39;, &#39;x2&#39;)))&#45;&gt;(&#39;Min&#39;, (None,), ((&#39;Ratio&#39;, (), ((&#39;Input&#39;, &#39;x1&#39;), (&#39;Input&#39;, &#39;x2&#39;))),)) -->\n",
       "<g id=\"edge3\" class=\"edge\">\n",
       "<title>(&#39;Ratio&#39;, (), ((&#39;Input&#39;, &#39;x1&#39;), (&#39;Input&#39;, &#39;x2&#39;)))&#45;&gt;(&#39;Min&#39;, (None,), ((&#39;Ratio&#39;, (), ((&#39;Input&#39;, &#39;x1&#39;), (&#39;Input&#39;, &#39;x2&#39;))),))</title>\n",
       "<path fill=\"none\" stroke=\"#000000\" d=\"M270.4052,-85.7239C225.3778,-78.4903 135.6008,-62.0329 63,-36 61.1254,-35.3278 59.222,-34.5822 57.3194,-33.7878\"/>\n",
       "<polygon fill=\"#000000\" stroke=\"#000000\" points=\"58.5026,-30.4809 47.951,-29.5241 55.6029,-36.8521 58.5026,-30.4809\"/>\n",
       "</g>\n",
       "<!-- (&#39;Max&#39;, (None,), ((&#39;Ratio&#39;, (), ((&#39;Input&#39;, &#39;x1&#39;), (&#39;Input&#39;, &#39;x2&#39;))),)) -->\n",
       "<g id=\"node5\" class=\"node\">\n",
       "<title>(&#39;Max&#39;, (None,), ((&#39;Ratio&#39;, (), ((&#39;Input&#39;, &#39;x1&#39;), (&#39;Input&#39;, &#39;x2&#39;))),))</title>\n",
       "<ellipse fill=\"none\" stroke=\"#000000\" cx=\"99\" cy=\"-18\" rx=\"27\" ry=\"18\"/>\n",
       "<text text-anchor=\"middle\" x=\"99\" y=\"-13.8\" font-family=\"Times,serif\" font-size=\"14.00\" fill=\"#000000\">Max</text>\n",
       "</g>\n",
       "<!-- (&#39;Ratio&#39;, (), ((&#39;Input&#39;, &#39;x1&#39;), (&#39;Input&#39;, &#39;x2&#39;)))&#45;&gt;(&#39;Max&#39;, (None,), ((&#39;Ratio&#39;, (), ((&#39;Input&#39;, &#39;x1&#39;), (&#39;Input&#39;, &#39;x2&#39;))),)) -->\n",
       "<g id=\"edge4\" class=\"edge\">\n",
       "<title>(&#39;Ratio&#39;, (), ((&#39;Input&#39;, &#39;x1&#39;), (&#39;Input&#39;, &#39;x2&#39;)))&#45;&gt;(&#39;Max&#39;, (None,), ((&#39;Ratio&#39;, (), ((&#39;Input&#39;, &#39;x1&#39;), (&#39;Input&#39;, &#39;x2&#39;))),))</title>\n",
       "<path fill=\"none\" stroke=\"#000000\" d=\"M272.1521,-82.4692C239.311,-72.9599 182.2543,-55.4721 135,-36 133.2072,-35.2612 131.38,-34.4711 129.547,-33.6495\"/>\n",
       "<polygon fill=\"#000000\" stroke=\"#000000\" points=\"131.0035,-30.4667 120.4656,-29.3702 128.0197,-36.799 131.0035,-30.4667\"/>\n",
       "</g>\n",
       "<!-- (&#39;Mean&#39;, (None,), ((&#39;Ratio&#39;, (), ((&#39;Input&#39;, &#39;x1&#39;), (&#39;Input&#39;, &#39;x2&#39;))),)) -->\n",
       "<g id=\"node6\" class=\"node\">\n",
       "<title>(&#39;Mean&#39;, (None,), ((&#39;Ratio&#39;, (), ((&#39;Input&#39;, &#39;x1&#39;), (&#39;Input&#39;, &#39;x2&#39;))),))</title>\n",
       "<ellipse fill=\"none\" stroke=\"#000000\" cx=\"174\" cy=\"-18\" rx=\"30.4862\" ry=\"18\"/>\n",
       "<text text-anchor=\"middle\" x=\"174\" y=\"-13.8\" font-family=\"Times,serif\" font-size=\"14.00\" fill=\"#000000\">Mean</text>\n",
       "</g>\n",
       "<!-- (&#39;Ratio&#39;, (), ((&#39;Input&#39;, &#39;x1&#39;), (&#39;Input&#39;, &#39;x2&#39;)))&#45;&gt;(&#39;Mean&#39;, (None,), ((&#39;Ratio&#39;, (), ((&#39;Input&#39;, &#39;x1&#39;), (&#39;Input&#39;, &#39;x2&#39;))),)) -->\n",
       "<g id=\"edge5\" class=\"edge\">\n",
       "<title>(&#39;Ratio&#39;, (), ((&#39;Input&#39;, &#39;x1&#39;), (&#39;Input&#39;, &#39;x2&#39;)))&#45;&gt;(&#39;Mean&#39;, (None,), ((&#39;Ratio&#39;, (), ((&#39;Input&#39;, &#39;x1&#39;), (&#39;Input&#39;, &#39;x2&#39;))),))</title>\n",
       "<path fill=\"none\" stroke=\"#000000\" d=\"M277.5117,-77.6228C257.5114,-66.1026 227.4793,-48.8041 204.9068,-35.8023\"/>\n",
       "<polygon fill=\"#000000\" stroke=\"#000000\" points=\"206.4597,-32.6577 196.0474,-30.6993 202.9658,-38.7234 206.4597,-32.6577\"/>\n",
       "</g>\n",
       "<!-- (&#39;StandardDeviation&#39;, (None,), ((&#39;Ratio&#39;, (), ((&#39;Input&#39;, &#39;x1&#39;), (&#39;Input&#39;, &#39;x2&#39;))),)) -->\n",
       "<g id=\"node7\" class=\"node\">\n",
       "<title>(&#39;StandardDeviation&#39;, (None,), ((&#39;Ratio&#39;, (), ((&#39;Input&#39;, &#39;x1&#39;), (&#39;Input&#39;, &#39;x2&#39;))),))</title>\n",
       "<ellipse fill=\"none\" stroke=\"#000000\" cx=\"299\" cy=\"-18\" rx=\"76.3312\" ry=\"18\"/>\n",
       "<text text-anchor=\"middle\" x=\"299\" y=\"-13.8\" font-family=\"Times,serif\" font-size=\"14.00\" fill=\"#000000\">StandardDeviation</text>\n",
       "</g>\n",
       "<!-- (&#39;Ratio&#39;, (), ((&#39;Input&#39;, &#39;x1&#39;), (&#39;Input&#39;, &#39;x2&#39;)))&#45;&gt;(&#39;StandardDeviation&#39;, (None,), ((&#39;Ratio&#39;, (), ((&#39;Input&#39;, &#39;x1&#39;), (&#39;Input&#39;, &#39;x2&#39;))),)) -->\n",
       "<g id=\"edge6\" class=\"edge\">\n",
       "<title>(&#39;Ratio&#39;, (), ((&#39;Input&#39;, &#39;x1&#39;), (&#39;Input&#39;, &#39;x2&#39;)))&#45;&gt;(&#39;StandardDeviation&#39;, (None,), ((&#39;Ratio&#39;, (), ((&#39;Input&#39;, &#39;x1&#39;), (&#39;Input&#39;, &#39;x2&#39;))),))</title>\n",
       "<path fill=\"none\" stroke=\"#000000\" d=\"M299,-71.8314C299,-64.131 299,-54.9743 299,-46.4166\"/>\n",
       "<polygon fill=\"#000000\" stroke=\"#000000\" points=\"302.5001,-46.4132 299,-36.4133 295.5001,-46.4133 302.5001,-46.4132\"/>\n",
       "</g>\n",
       "<!-- (&#39;Variance&#39;, (None,), ((&#39;Ratio&#39;, (), ((&#39;Input&#39;, &#39;x1&#39;), (&#39;Input&#39;, &#39;x2&#39;))),)) -->\n",
       "<g id=\"node8\" class=\"node\">\n",
       "<title>(&#39;Variance&#39;, (None,), ((&#39;Ratio&#39;, (), ((&#39;Input&#39;, &#39;x1&#39;), (&#39;Input&#39;, &#39;x2&#39;))),))</title>\n",
       "<ellipse fill=\"none\" stroke=\"#000000\" cx=\"434\" cy=\"-18\" rx=\"41.0748\" ry=\"18\"/>\n",
       "<text text-anchor=\"middle\" x=\"434\" y=\"-13.8\" font-family=\"Times,serif\" font-size=\"14.00\" fill=\"#000000\">Variance</text>\n",
       "</g>\n",
       "<!-- (&#39;Ratio&#39;, (), ((&#39;Input&#39;, &#39;x1&#39;), (&#39;Input&#39;, &#39;x2&#39;)))&#45;&gt;(&#39;Variance&#39;, (None,), ((&#39;Ratio&#39;, (), ((&#39;Input&#39;, &#39;x1&#39;), (&#39;Input&#39;, &#39;x2&#39;))),)) -->\n",
       "<g id=\"edge7\" class=\"edge\">\n",
       "<title>(&#39;Ratio&#39;, (), ((&#39;Input&#39;, &#39;x1&#39;), (&#39;Input&#39;, &#39;x2&#39;)))&#45;&gt;(&#39;Variance&#39;, (None,), ((&#39;Ratio&#39;, (), ((&#39;Input&#39;, &#39;x1&#39;), (&#39;Input&#39;, &#39;x2&#39;))),))</title>\n",
       "<path fill=\"none\" stroke=\"#000000\" d=\"M321.2925,-78.1107C342.277,-66.9189 374.0496,-49.9735 398.5174,-36.9241\"/>\n",
       "<polygon fill=\"#000000\" stroke=\"#000000\" points=\"400.323,-39.9278 407.4995,-32.1336 397.0289,-33.7513 400.323,-39.9278\"/>\n",
       "</g>\n",
       "<!-- (&#39;Skewness&#39;, (None,), ((&#39;Ratio&#39;, (), ((&#39;Input&#39;, &#39;x1&#39;), (&#39;Input&#39;, &#39;x2&#39;))),)) -->\n",
       "<g id=\"node9\" class=\"node\">\n",
       "<title>(&#39;Skewness&#39;, (None,), ((&#39;Ratio&#39;, (), ((&#39;Input&#39;, &#39;x1&#39;), (&#39;Input&#39;, &#39;x2&#39;))),))</title>\n",
       "<ellipse fill=\"none\" stroke=\"#000000\" cx=\"538\" cy=\"-18\" rx=\"44.9768\" ry=\"18\"/>\n",
       "<text text-anchor=\"middle\" x=\"538\" y=\"-13.8\" font-family=\"Times,serif\" font-size=\"14.00\" fill=\"#000000\">Skewness</text>\n",
       "</g>\n",
       "<!-- (&#39;Ratio&#39;, (), ((&#39;Input&#39;, &#39;x1&#39;), (&#39;Input&#39;, &#39;x2&#39;)))&#45;&gt;(&#39;Skewness&#39;, (None,), ((&#39;Ratio&#39;, (), ((&#39;Input&#39;, &#39;x1&#39;), (&#39;Input&#39;, &#39;x2&#39;))),)) -->\n",
       "<g id=\"edge8\" class=\"edge\">\n",
       "<title>(&#39;Ratio&#39;, (), ((&#39;Input&#39;, &#39;x1&#39;), (&#39;Input&#39;, &#39;x2&#39;)))&#45;&gt;(&#39;Skewness&#39;, (None,), ((&#39;Ratio&#39;, (), ((&#39;Input&#39;, &#39;x1&#39;), (&#39;Input&#39;, &#39;x2&#39;))),))</title>\n",
       "<path fill=\"none\" stroke=\"#000000\" d=\"M325.7485,-82.5348C361.8066,-72.3933 427.9534,-53.514 484,-36 487.1598,-35.0126 490.4174,-33.9754 493.6929,-32.9183\"/>\n",
       "<polygon fill=\"#000000\" stroke=\"#000000\" points=\"495.0748,-36.149 503.4941,-29.7173 492.9016,-29.4948 495.0748,-36.149\"/>\n",
       "</g>\n",
       "<!-- (&#39;Kurtosis&#39;, (None,), ((&#39;Ratio&#39;, (), ((&#39;Input&#39;, &#39;x1&#39;), (&#39;Input&#39;, &#39;x2&#39;))),)) -->\n",
       "<g id=\"node10\" class=\"node\">\n",
       "<title>(&#39;Kurtosis&#39;, (None,), ((&#39;Ratio&#39;, (), ((&#39;Input&#39;, &#39;x1&#39;), (&#39;Input&#39;, &#39;x2&#39;))),))</title>\n",
       "<ellipse fill=\"none\" stroke=\"#000000\" cx=\"641\" cy=\"-18\" rx=\"40.1576\" ry=\"18\"/>\n",
       "<text text-anchor=\"middle\" x=\"641\" y=\"-13.8\" font-family=\"Times,serif\" font-size=\"14.00\" fill=\"#000000\">Kurtosis</text>\n",
       "</g>\n",
       "<!-- (&#39;Ratio&#39;, (), ((&#39;Input&#39;, &#39;x1&#39;), (&#39;Input&#39;, &#39;x2&#39;)))&#45;&gt;(&#39;Kurtosis&#39;, (None,), ((&#39;Ratio&#39;, (), ((&#39;Input&#39;, &#39;x1&#39;), (&#39;Input&#39;, &#39;x2&#39;))),)) -->\n",
       "<g id=\"edge9\" class=\"edge\">\n",
       "<title>(&#39;Ratio&#39;, (), ((&#39;Input&#39;, &#39;x1&#39;), (&#39;Input&#39;, &#39;x2&#39;)))&#45;&gt;(&#39;Kurtosis&#39;, (None,), ((&#39;Ratio&#39;, (), ((&#39;Input&#39;, &#39;x1&#39;), (&#39;Input&#39;, &#39;x2&#39;))),))</title>\n",
       "<path fill=\"none\" stroke=\"#000000\" d=\"M328.0625,-86.3123C381.1187,-79.213 496.9597,-62.0118 592,-36 595.0062,-35.1772 598.089,-34.2507 601.1735,-33.2631\"/>\n",
       "<polygon fill=\"#000000\" stroke=\"#000000\" points=\"602.5925,-36.4778 610.9399,-29.9531 600.3456,-29.8482 602.5925,-36.4778\"/>\n",
       "</g>\n",
       "</g>\n",
       "</svg>\n"
      ],
      "text/plain": [
       "<tsfuse.computation.graph.Graph at 0x7f988e2edee0>"
      ]
     },
     "execution_count": 9,
     "metadata": {},
     "output_type": "execute_result"
    }
   ],
   "source": [
    "from tsfuse.transformers import *\n",
    "\n",
    "graph.add_node(Min(Ratio(input1, input2)), i=2)\n",
    "graph.add_node(Max(Ratio(input1, input2)), i=3)\n",
    "graph.add_node(Mean(Ratio(input1, input2)), i=4)\n",
    "graph.add_node(StandardDeviation(Ratio(input1, input2)), i=4)\n",
    "graph.add_node(Variance(Ratio(input1, input2)), i=5)\n",
    "graph.add_node(Skewness(Ratio(input1, input2)), i=6)\n",
    "graph.add_node(Kurtosis(Ratio(input1, input2)), i=7)\n",
    "\n",
    "graph"
   ]
  },
  {
   "cell_type": "raw",
   "metadata": {
    "raw_mimetype": "text/restructuredtext"
   },
   "source": [
    "This is the same graph as the one we constructed previously, and we can use it in the same way to compute features:"
   ]
  },
  {
   "cell_type": "code",
   "execution_count": 10,
   "metadata": {
    "ExecuteTime": {
     "end_time": "2019-12-09T11:55:30.919927Z",
     "start_time": "2019-12-09T11:55:30.892836Z"
    }
   },
   "outputs": [
    {
     "data": {
      "text/html": [
       "<div>\n",
       "<style scoped>\n",
       "    .dataframe tbody tr th:only-of-type {\n",
       "        vertical-align: middle;\n",
       "    }\n",
       "\n",
       "    .dataframe tbody tr th {\n",
       "        vertical-align: top;\n",
       "    }\n",
       "\n",
       "    .dataframe thead th {\n",
       "        text-align: right;\n",
       "    }\n",
       "</style>\n",
       "<table border=\"1\" class=\"dataframe\">\n",
       "  <thead>\n",
       "    <tr style=\"text-align: right;\">\n",
       "      <th></th>\n",
       "      <th>Kurtosis(Ratio(Input(x1), Input(x2)))</th>\n",
       "      <th>Max(Ratio(Input(x1), Input(x2)))</th>\n",
       "      <th>Mean(Ratio(Input(x1), Input(x2)))</th>\n",
       "      <th>Min(Ratio(Input(x1), Input(x2)))</th>\n",
       "      <th>Skewness(Ratio(Input(x1), Input(x2)))</th>\n",
       "      <th>StandardDeviation(Ratio(Input(x1), Input(x2)))</th>\n",
       "    </tr>\n",
       "  </thead>\n",
       "  <tbody>\n",
       "    <tr>\n",
       "      <th>0</th>\n",
       "      <td>NaN</td>\n",
       "      <td>1.0</td>\n",
       "      <td>1.000000</td>\n",
       "      <td>1.000000</td>\n",
       "      <td>NaN</td>\n",
       "      <td>0.000000</td>\n",
       "    </tr>\n",
       "    <tr>\n",
       "      <th>1</th>\n",
       "      <td>NaN</td>\n",
       "      <td>1.0</td>\n",
       "      <td>1.000000</td>\n",
       "      <td>1.000000</td>\n",
       "      <td>NaN</td>\n",
       "      <td>0.000000</td>\n",
       "    </tr>\n",
       "    <tr>\n",
       "      <th>2</th>\n",
       "      <td>NaN</td>\n",
       "      <td>1.0</td>\n",
       "      <td>1.000000</td>\n",
       "      <td>1.000000</td>\n",
       "      <td>NaN</td>\n",
       "      <td>0.000000</td>\n",
       "    </tr>\n",
       "    <tr>\n",
       "      <th>3</th>\n",
       "      <td>-1.5</td>\n",
       "      <td>3.0</td>\n",
       "      <td>1.444444</td>\n",
       "      <td>0.333333</td>\n",
       "      <td>0.528005</td>\n",
       "      <td>1.133115</td>\n",
       "    </tr>\n",
       "    <tr>\n",
       "      <th>4</th>\n",
       "      <td>-1.5</td>\n",
       "      <td>3.0</td>\n",
       "      <td>1.444444</td>\n",
       "      <td>0.333333</td>\n",
       "      <td>0.528005</td>\n",
       "      <td>1.133115</td>\n",
       "    </tr>\n",
       "    <tr>\n",
       "      <th>5</th>\n",
       "      <td>-1.5</td>\n",
       "      <td>3.0</td>\n",
       "      <td>1.444444</td>\n",
       "      <td>0.333333</td>\n",
       "      <td>0.528005</td>\n",
       "      <td>1.133115</td>\n",
       "    </tr>\n",
       "  </tbody>\n",
       "</table>\n",
       "</div>"
      ],
      "text/plain": [
       "   Kurtosis(Ratio(Input(x1), Input(x2)))  Max(Ratio(Input(x1), Input(x2)))  \\\n",
       "0                                    NaN                               1.0   \n",
       "1                                    NaN                               1.0   \n",
       "2                                    NaN                               1.0   \n",
       "3                                   -1.5                               3.0   \n",
       "4                                   -1.5                               3.0   \n",
       "5                                   -1.5                               3.0   \n",
       "\n",
       "   Mean(Ratio(Input(x1), Input(x2)))  Min(Ratio(Input(x1), Input(x2)))  \\\n",
       "0                           1.000000                          1.000000   \n",
       "1                           1.000000                          1.000000   \n",
       "2                           1.000000                          1.000000   \n",
       "3                           1.444444                          0.333333   \n",
       "4                           1.444444                          0.333333   \n",
       "5                           1.444444                          0.333333   \n",
       "\n",
       "   Skewness(Ratio(Input(x1), Input(x2)))  \\\n",
       "0                                    NaN   \n",
       "1                                    NaN   \n",
       "2                                    NaN   \n",
       "3                               0.528005   \n",
       "4                               0.528005   \n",
       "5                               0.528005   \n",
       "\n",
       "   StandardDeviation(Ratio(Input(x1), Input(x2)))  \n",
       "0                                        0.000000  \n",
       "1                                        0.000000  \n",
       "2                                        0.000000  \n",
       "3                                        1.133115  \n",
       "4                                        1.133115  \n",
       "5                                        1.133115  "
      ]
     },
     "execution_count": 10,
     "metadata": {},
     "output_type": "execute_result"
    }
   ],
   "source": [
    "graph.transform(X)"
   ]
  }
 ],
 "metadata": {
  "celltoolbar": "Raw Cell Format",
  "kernelspec": {
   "display_name": "Python [conda env:tsfuse]",
   "language": "python",
   "name": "conda-env-tsfuse-py"
  },
  "language_info": {
   "codemirror_mode": {
    "name": "ipython",
    "version": 3
   },
   "file_extension": ".py",
   "mimetype": "text/x-python",
   "name": "python",
   "nbconvert_exporter": "python",
   "pygments_lexer": "ipython3",
   "version": "3.8.10"
  },
  "toc": {
   "base_numbering": 1,
   "nav_menu": {},
   "number_sections": true,
   "sideBar": true,
   "skip_h1_title": false,
   "title_cell": "Table of Contents",
   "title_sidebar": "Contents",
   "toc_cell": false,
   "toc_position": {
    "height": "calc(100% - 180px)",
    "left": "10px",
    "top": "150px",
    "width": "288px"
   },
   "toc_section_display": true,
   "toc_window_display": true
  }
 },
 "nbformat": 4,
 "nbformat_minor": 2
}
